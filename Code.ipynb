{
 "cells": [
  {
   "cell_type": "code",
   "execution_count": 1,
   "id": "0157df0b",
   "metadata": {
    "execution": {
     "iopub.execute_input": "2023-02-13T16:38:18.428165Z",
     "iopub.status.busy": "2023-02-13T16:38:18.427234Z",
     "iopub.status.idle": "2023-02-13T16:38:19.970447Z",
     "shell.execute_reply": "2023-02-13T16:38:19.969153Z"
    },
    "papermill": {
     "duration": 1.560439,
     "end_time": "2023-02-13T16:38:19.973530",
     "exception": false,
     "start_time": "2023-02-13T16:38:18.413091",
     "status": "completed"
    },
    "tags": []
   },
   "outputs": [],
   "source": [
    "import numpy as np\n",
    "import seaborn as sns\n",
    "import pandas as pd \n",
    "import matplotlib.pyplot as plt\n",
    "from sklearn.model_selection import cross_val_score\n",
    "from sklearn.linear_model import LinearRegression\n",
    "\n",
    "import warnings\n",
    "warnings.filterwarnings(\"ignore\")\n",
    "%matplotlib inline"
   ]
  },
  {
   "cell_type": "code",
   "execution_count": 2,
   "id": "86435f20",
   "metadata": {
    "execution": {
     "iopub.execute_input": "2023-02-13T16:38:20.002858Z",
     "iopub.status.busy": "2023-02-13T16:38:20.002421Z",
     "iopub.status.idle": "2023-02-13T16:38:20.065901Z",
     "shell.execute_reply": "2023-02-13T16:38:20.064599Z"
    },
    "papermill": {
     "duration": 0.081021,
     "end_time": "2023-02-13T16:38:20.069166",
     "exception": false,
     "start_time": "2023-02-13T16:38:19.988145",
     "status": "completed"
    },
    "tags": []
   },
   "outputs": [],
   "source": [
    "train = pd.read_csv(\"C:/Users/sahu1/usa housing/housing_train.csv\")"
   ]
  },
  {
   "cell_type": "markdown",
   "id": "bd33cc50",
   "metadata": {
    "papermill": {
     "duration": 0.019322,
     "end_time": "2023-02-13T16:38:20.105385",
     "exception": false,
     "start_time": "2023-02-13T16:38:20.086063",
     "status": "completed"
    },
    "tags": []
   },
   "source": [
    "## The first thing to do when encountering new data is to run the .info() function, which will collect information about the dataset (feature names, data type, number of non-zero values)."
   ]
  },
  {
   "cell_type": "markdown",
   "id": "77d4c6f8",
   "metadata": {
    "papermill": {
     "duration": 0.017498,
     "end_time": "2023-02-13T16:38:20.136285",
     "exception": false,
     "start_time": "2023-02-13T16:38:20.118787",
     "status": "completed"
    },
    "tags": []
   },
   "source": [
    "## EDA AND DATA PREPARATION"
   ]
  },
  {
   "cell_type": "code",
   "execution_count": 3,
   "id": "015eef2d",
   "metadata": {
    "execution": {
     "iopub.execute_input": "2023-02-13T16:38:20.163743Z",
     "iopub.status.busy": "2023-02-13T16:38:20.163287Z",
     "iopub.status.idle": "2023-02-13T16:38:20.202512Z",
     "shell.execute_reply": "2023-02-13T16:38:20.201152Z"
    },
    "papermill": {
     "duration": 0.056583,
     "end_time": "2023-02-13T16:38:20.205633",
     "exception": false,
     "start_time": "2023-02-13T16:38:20.149050",
     "status": "completed"
    },
    "tags": []
   },
   "outputs": [
    {
     "data": {
      "text/html": [
       "<div>\n",
       "<style scoped>\n",
       "    .dataframe tbody tr th:only-of-type {\n",
       "        vertical-align: middle;\n",
       "    }\n",
       "\n",
       "    .dataframe tbody tr th {\n",
       "        vertical-align: top;\n",
       "    }\n",
       "\n",
       "    .dataframe thead th {\n",
       "        text-align: right;\n",
       "    }\n",
       "</style>\n",
       "<table border=\"1\" class=\"dataframe\">\n",
       "  <thead>\n",
       "    <tr style=\"text-align: right;\">\n",
       "      <th></th>\n",
       "      <th>Id</th>\n",
       "      <th>MSSubClass</th>\n",
       "      <th>MSZoning</th>\n",
       "      <th>LotFrontage</th>\n",
       "      <th>LotArea</th>\n",
       "      <th>Street</th>\n",
       "      <th>Alley</th>\n",
       "      <th>LotShape</th>\n",
       "      <th>LandContour</th>\n",
       "      <th>Utilities</th>\n",
       "      <th>...</th>\n",
       "      <th>PoolArea</th>\n",
       "      <th>PoolQC</th>\n",
       "      <th>Fence</th>\n",
       "      <th>MiscFeature</th>\n",
       "      <th>MiscVal</th>\n",
       "      <th>MoSold</th>\n",
       "      <th>YrSold</th>\n",
       "      <th>SaleType</th>\n",
       "      <th>SaleCondition</th>\n",
       "      <th>SalePrice</th>\n",
       "    </tr>\n",
       "  </thead>\n",
       "  <tbody>\n",
       "    <tr>\n",
       "      <th>0</th>\n",
       "      <td>1</td>\n",
       "      <td>60</td>\n",
       "      <td>RL</td>\n",
       "      <td>65.0</td>\n",
       "      <td>8450</td>\n",
       "      <td>Pave</td>\n",
       "      <td>NaN</td>\n",
       "      <td>Reg</td>\n",
       "      <td>Lvl</td>\n",
       "      <td>AllPub</td>\n",
       "      <td>...</td>\n",
       "      <td>0</td>\n",
       "      <td>NaN</td>\n",
       "      <td>NaN</td>\n",
       "      <td>NaN</td>\n",
       "      <td>0</td>\n",
       "      <td>2</td>\n",
       "      <td>2008</td>\n",
       "      <td>WD</td>\n",
       "      <td>Normal</td>\n",
       "      <td>208500</td>\n",
       "    </tr>\n",
       "    <tr>\n",
       "      <th>1</th>\n",
       "      <td>2</td>\n",
       "      <td>20</td>\n",
       "      <td>RL</td>\n",
       "      <td>80.0</td>\n",
       "      <td>9600</td>\n",
       "      <td>Pave</td>\n",
       "      <td>NaN</td>\n",
       "      <td>Reg</td>\n",
       "      <td>Lvl</td>\n",
       "      <td>AllPub</td>\n",
       "      <td>...</td>\n",
       "      <td>0</td>\n",
       "      <td>NaN</td>\n",
       "      <td>NaN</td>\n",
       "      <td>NaN</td>\n",
       "      <td>0</td>\n",
       "      <td>5</td>\n",
       "      <td>2007</td>\n",
       "      <td>WD</td>\n",
       "      <td>Normal</td>\n",
       "      <td>181500</td>\n",
       "    </tr>\n",
       "    <tr>\n",
       "      <th>2</th>\n",
       "      <td>3</td>\n",
       "      <td>60</td>\n",
       "      <td>RL</td>\n",
       "      <td>68.0</td>\n",
       "      <td>11250</td>\n",
       "      <td>Pave</td>\n",
       "      <td>NaN</td>\n",
       "      <td>IR1</td>\n",
       "      <td>Lvl</td>\n",
       "      <td>AllPub</td>\n",
       "      <td>...</td>\n",
       "      <td>0</td>\n",
       "      <td>NaN</td>\n",
       "      <td>NaN</td>\n",
       "      <td>NaN</td>\n",
       "      <td>0</td>\n",
       "      <td>9</td>\n",
       "      <td>2008</td>\n",
       "      <td>WD</td>\n",
       "      <td>Normal</td>\n",
       "      <td>223500</td>\n",
       "    </tr>\n",
       "    <tr>\n",
       "      <th>3</th>\n",
       "      <td>4</td>\n",
       "      <td>70</td>\n",
       "      <td>RL</td>\n",
       "      <td>60.0</td>\n",
       "      <td>9550</td>\n",
       "      <td>Pave</td>\n",
       "      <td>NaN</td>\n",
       "      <td>IR1</td>\n",
       "      <td>Lvl</td>\n",
       "      <td>AllPub</td>\n",
       "      <td>...</td>\n",
       "      <td>0</td>\n",
       "      <td>NaN</td>\n",
       "      <td>NaN</td>\n",
       "      <td>NaN</td>\n",
       "      <td>0</td>\n",
       "      <td>2</td>\n",
       "      <td>2006</td>\n",
       "      <td>WD</td>\n",
       "      <td>Abnorml</td>\n",
       "      <td>140000</td>\n",
       "    </tr>\n",
       "    <tr>\n",
       "      <th>4</th>\n",
       "      <td>5</td>\n",
       "      <td>60</td>\n",
       "      <td>RL</td>\n",
       "      <td>84.0</td>\n",
       "      <td>14260</td>\n",
       "      <td>Pave</td>\n",
       "      <td>NaN</td>\n",
       "      <td>IR1</td>\n",
       "      <td>Lvl</td>\n",
       "      <td>AllPub</td>\n",
       "      <td>...</td>\n",
       "      <td>0</td>\n",
       "      <td>NaN</td>\n",
       "      <td>NaN</td>\n",
       "      <td>NaN</td>\n",
       "      <td>0</td>\n",
       "      <td>12</td>\n",
       "      <td>2008</td>\n",
       "      <td>WD</td>\n",
       "      <td>Normal</td>\n",
       "      <td>250000</td>\n",
       "    </tr>\n",
       "  </tbody>\n",
       "</table>\n",
       "<p>5 rows × 81 columns</p>\n",
       "</div>"
      ],
      "text/plain": [
       "   Id  MSSubClass MSZoning  LotFrontage  LotArea Street Alley LotShape  \\\n",
       "0   1          60       RL         65.0     8450   Pave   NaN      Reg   \n",
       "1   2          20       RL         80.0     9600   Pave   NaN      Reg   \n",
       "2   3          60       RL         68.0    11250   Pave   NaN      IR1   \n",
       "3   4          70       RL         60.0     9550   Pave   NaN      IR1   \n",
       "4   5          60       RL         84.0    14260   Pave   NaN      IR1   \n",
       "\n",
       "  LandContour Utilities  ... PoolArea PoolQC Fence MiscFeature MiscVal MoSold  \\\n",
       "0         Lvl    AllPub  ...        0    NaN   NaN         NaN       0      2   \n",
       "1         Lvl    AllPub  ...        0    NaN   NaN         NaN       0      5   \n",
       "2         Lvl    AllPub  ...        0    NaN   NaN         NaN       0      9   \n",
       "3         Lvl    AllPub  ...        0    NaN   NaN         NaN       0      2   \n",
       "4         Lvl    AllPub  ...        0    NaN   NaN         NaN       0     12   \n",
       "\n",
       "  YrSold  SaleType  SaleCondition  SalePrice  \n",
       "0   2008        WD         Normal     208500  \n",
       "1   2007        WD         Normal     181500  \n",
       "2   2008        WD         Normal     223500  \n",
       "3   2006        WD        Abnorml     140000  \n",
       "4   2008        WD         Normal     250000  \n",
       "\n",
       "[5 rows x 81 columns]"
      ]
     },
     "execution_count": 3,
     "metadata": {},
     "output_type": "execute_result"
    }
   ],
   "source": [
    "train.head()"
   ]
  },
  {
   "cell_type": "code",
   "execution_count": 4,
   "id": "595e04b6",
   "metadata": {
    "execution": {
     "iopub.execute_input": "2023-02-13T16:38:20.233739Z",
     "iopub.status.busy": "2023-02-13T16:38:20.232942Z",
     "iopub.status.idle": "2023-02-13T16:38:20.245632Z",
     "shell.execute_reply": "2023-02-13T16:38:20.244287Z"
    },
    "papermill": {
     "duration": 0.029579,
     "end_time": "2023-02-13T16:38:20.248243",
     "exception": false,
     "start_time": "2023-02-13T16:38:20.218664",
     "status": "completed"
    },
    "tags": []
   },
   "outputs": [
    {
     "name": "stdout",
     "output_type": "stream",
     "text": [
      "(1460, 81)\n",
      "object     43\n",
      "int64      35\n",
      "float64     3\n",
      "dtype: int64\n"
     ]
    }
   ],
   "source": [
    "print(train.shape)\n",
    "print(train.dtypes.value_counts())"
   ]
  },
  {
   "cell_type": "markdown",
   "id": "f8613470",
   "metadata": {
    "papermill": {
     "duration": 0.013036,
     "end_time": "2023-02-13T16:38:20.274388",
     "exception": false,
     "start_time": "2023-02-13T16:38:20.261352",
     "status": "completed"
    },
    "tags": []
   },
   "source": [
    "> ### At first fill NAN values."
   ]
  },
  {
   "cell_type": "code",
   "execution_count": 5,
   "id": "c3133132",
   "metadata": {
    "execution": {
     "iopub.execute_input": "2023-02-13T16:38:20.302863Z",
     "iopub.status.busy": "2023-02-13T16:38:20.301838Z",
     "iopub.status.idle": "2023-02-13T16:38:20.319593Z",
     "shell.execute_reply": "2023-02-13T16:38:20.318399Z"
    },
    "papermill": {
     "duration": 0.034461,
     "end_time": "2023-02-13T16:38:20.321915",
     "exception": false,
     "start_time": "2023-02-13T16:38:20.287454",
     "status": "completed"
    },
    "tags": []
   },
   "outputs": [
    {
     "data": {
      "text/html": [
       "<div>\n",
       "<style scoped>\n",
       "    .dataframe tbody tr th:only-of-type {\n",
       "        vertical-align: middle;\n",
       "    }\n",
       "\n",
       "    .dataframe tbody tr th {\n",
       "        vertical-align: top;\n",
       "    }\n",
       "\n",
       "    .dataframe thead th {\n",
       "        text-align: right;\n",
       "    }\n",
       "</style>\n",
       "<table border=\"1\" class=\"dataframe\">\n",
       "  <thead>\n",
       "    <tr style=\"text-align: right;\">\n",
       "      <th></th>\n",
       "      <th>0</th>\n",
       "    </tr>\n",
       "  </thead>\n",
       "  <tbody>\n",
       "    <tr>\n",
       "      <th>PoolQC</th>\n",
       "      <td>1453</td>\n",
       "    </tr>\n",
       "    <tr>\n",
       "      <th>MiscFeature</th>\n",
       "      <td>1406</td>\n",
       "    </tr>\n",
       "    <tr>\n",
       "      <th>Alley</th>\n",
       "      <td>1369</td>\n",
       "    </tr>\n",
       "    <tr>\n",
       "      <th>Fence</th>\n",
       "      <td>1179</td>\n",
       "    </tr>\n",
       "    <tr>\n",
       "      <th>FireplaceQu</th>\n",
       "      <td>690</td>\n",
       "    </tr>\n",
       "    <tr>\n",
       "      <th>LotFrontage</th>\n",
       "      <td>259</td>\n",
       "    </tr>\n",
       "    <tr>\n",
       "      <th>GarageYrBlt</th>\n",
       "      <td>81</td>\n",
       "    </tr>\n",
       "    <tr>\n",
       "      <th>GarageCond</th>\n",
       "      <td>81</td>\n",
       "    </tr>\n",
       "    <tr>\n",
       "      <th>GarageType</th>\n",
       "      <td>81</td>\n",
       "    </tr>\n",
       "    <tr>\n",
       "      <th>GarageFinish</th>\n",
       "      <td>81</td>\n",
       "    </tr>\n",
       "  </tbody>\n",
       "</table>\n",
       "</div>"
      ],
      "text/plain": [
       "                 0\n",
       "PoolQC        1453\n",
       "MiscFeature   1406\n",
       "Alley         1369\n",
       "Fence         1179\n",
       "FireplaceQu    690\n",
       "LotFrontage    259\n",
       "GarageYrBlt     81\n",
       "GarageCond      81\n",
       "GarageType      81\n",
       "GarageFinish    81"
      ]
     },
     "execution_count": 5,
     "metadata": {},
     "output_type": "execute_result"
    }
   ],
   "source": [
    "# number of nan values \n",
    "pd.DataFrame(train.isna().sum()).round(2).sort_values(by=0, ascending=False).head(10)"
   ]
  },
  {
   "cell_type": "code",
   "execution_count": 6,
   "id": "0098f535",
   "metadata": {
    "execution": {
     "iopub.execute_input": "2023-02-13T16:38:20.350606Z",
     "iopub.status.busy": "2023-02-13T16:38:20.349879Z",
     "iopub.status.idle": "2023-02-13T16:38:20.367373Z",
     "shell.execute_reply": "2023-02-13T16:38:20.366103Z"
    },
    "papermill": {
     "duration": 0.034682,
     "end_time": "2023-02-13T16:38:20.369791",
     "exception": false,
     "start_time": "2023-02-13T16:38:20.335109",
     "status": "completed"
    },
    "tags": []
   },
   "outputs": [
    {
     "data": {
      "text/html": [
       "<div>\n",
       "<style scoped>\n",
       "    .dataframe tbody tr th:only-of-type {\n",
       "        vertical-align: middle;\n",
       "    }\n",
       "\n",
       "    .dataframe tbody tr th {\n",
       "        vertical-align: top;\n",
       "    }\n",
       "\n",
       "    .dataframe thead th {\n",
       "        text-align: right;\n",
       "    }\n",
       "</style>\n",
       "<table border=\"1\" class=\"dataframe\">\n",
       "  <thead>\n",
       "    <tr style=\"text-align: right;\">\n",
       "      <th></th>\n",
       "      <th>0</th>\n",
       "    </tr>\n",
       "  </thead>\n",
       "  <tbody>\n",
       "    <tr>\n",
       "      <th>PoolQC</th>\n",
       "      <td>99.52</td>\n",
       "    </tr>\n",
       "    <tr>\n",
       "      <th>MiscFeature</th>\n",
       "      <td>96.30</td>\n",
       "    </tr>\n",
       "    <tr>\n",
       "      <th>Alley</th>\n",
       "      <td>93.77</td>\n",
       "    </tr>\n",
       "    <tr>\n",
       "      <th>Fence</th>\n",
       "      <td>80.75</td>\n",
       "    </tr>\n",
       "    <tr>\n",
       "      <th>FireplaceQu</th>\n",
       "      <td>47.26</td>\n",
       "    </tr>\n",
       "    <tr>\n",
       "      <th>LotFrontage</th>\n",
       "      <td>17.74</td>\n",
       "    </tr>\n",
       "    <tr>\n",
       "      <th>GarageYrBlt</th>\n",
       "      <td>5.55</td>\n",
       "    </tr>\n",
       "    <tr>\n",
       "      <th>GarageCond</th>\n",
       "      <td>5.55</td>\n",
       "    </tr>\n",
       "    <tr>\n",
       "      <th>GarageType</th>\n",
       "      <td>5.55</td>\n",
       "    </tr>\n",
       "    <tr>\n",
       "      <th>GarageFinish</th>\n",
       "      <td>5.55</td>\n",
       "    </tr>\n",
       "  </tbody>\n",
       "</table>\n",
       "</div>"
      ],
      "text/plain": [
       "                  0\n",
       "PoolQC        99.52\n",
       "MiscFeature   96.30\n",
       "Alley         93.77\n",
       "Fence         80.75\n",
       "FireplaceQu   47.26\n",
       "LotFrontage   17.74\n",
       "GarageYrBlt    5.55\n",
       "GarageCond     5.55\n",
       "GarageType     5.55\n",
       "GarageFinish   5.55"
      ]
     },
     "execution_count": 6,
     "metadata": {},
     "output_type": "execute_result"
    }
   ],
   "source": [
    "# number of nan values  in percent\n",
    "pd.DataFrame(train.isna().mean()*100).round(2).sort_values(by=0, ascending=False).head(10)"
   ]
  },
  {
   "cell_type": "code",
   "execution_count": 7,
   "id": "a78b5798",
   "metadata": {
    "execution": {
     "iopub.execute_input": "2023-02-13T16:38:20.399233Z",
     "iopub.status.busy": "2023-02-13T16:38:20.398420Z",
     "iopub.status.idle": "2023-02-13T16:38:20.410764Z",
     "shell.execute_reply": "2023-02-13T16:38:20.409557Z"
    },
    "papermill": {
     "duration": 0.030267,
     "end_time": "2023-02-13T16:38:20.413348",
     "exception": false,
     "start_time": "2023-02-13T16:38:20.383081",
     "status": "completed"
    },
    "tags": []
   },
   "outputs": [],
   "source": [
    "# remove features with gaps of more than 40%\n",
    "train = train.drop(columns=train.columns[train.isna().mean() > 0.40])"
   ]
  },
  {
   "cell_type": "code",
   "execution_count": 8,
   "id": "f3e32fcb",
   "metadata": {
    "execution": {
     "iopub.execute_input": "2023-02-13T16:38:20.443425Z",
     "iopub.status.busy": "2023-02-13T16:38:20.442671Z",
     "iopub.status.idle": "2023-02-13T16:38:20.450693Z",
     "shell.execute_reply": "2023-02-13T16:38:20.449490Z"
    },
    "papermill": {
     "duration": 0.025892,
     "end_time": "2023-02-13T16:38:20.453401",
     "exception": false,
     "start_time": "2023-02-13T16:38:20.427509",
     "status": "completed"
    },
    "tags": []
   },
   "outputs": [],
   "source": [
    "# function for filling nan values: mode, meadian and mean \n",
    "def get_value(X, column, mode='mean', value=0, columns_for_reg=None): \n",
    "\n",
    "    if mode == 'median':\n",
    "        X.loc[X[X[column].isna()].index ,column] = X[column].median()    \n",
    "    \n",
    "    elif mode == 'mean':\n",
    "        X.loc[X[X[column].isna()].index, column] = X[column].mean()  \n",
    "      \n",
    "    elif mode == 'mode':\n",
    "        X.loc[X[X[column].isna()].index, column] = X[column].mode()[0]\n",
    "\n",
    "    return X.head()"
   ]
  },
  {
   "cell_type": "code",
   "execution_count": 9,
   "id": "8b0828ab",
   "metadata": {
    "execution": {
     "iopub.execute_input": "2023-02-13T16:38:20.481989Z",
     "iopub.status.busy": "2023-02-13T16:38:20.481533Z",
     "iopub.status.idle": "2023-02-13T16:38:20.594533Z",
     "shell.execute_reply": "2023-02-13T16:38:20.593218Z"
    },
    "papermill": {
     "duration": 0.130506,
     "end_time": "2023-02-13T16:38:20.597367",
     "exception": false,
     "start_time": "2023-02-13T16:38:20.466861",
     "status": "completed"
    },
    "tags": []
   },
   "outputs": [],
   "source": [
    "for i in train.columns[train.dtypes == 'int64']:\n",
    "      get_value(train, column= i, mode='median')\n",
    "\n",
    "for i in train.columns[train.dtypes == 'float64']:\n",
    "      get_value(train, column= i, mode='mean')\n",
    "\n",
    "for i in train.columns[train.dtypes == 'object']:\n",
    "      get_value(train, column= i, mode='mode')"
   ]
  },
  {
   "cell_type": "code",
   "execution_count": 10,
   "id": "c9667276",
   "metadata": {
    "execution": {
     "iopub.execute_input": "2023-02-13T16:38:20.627322Z",
     "iopub.status.busy": "2023-02-13T16:38:20.626245Z",
     "iopub.status.idle": "2023-02-13T16:38:20.640878Z",
     "shell.execute_reply": "2023-02-13T16:38:20.639883Z"
    },
    "papermill": {
     "duration": 0.031853,
     "end_time": "2023-02-13T16:38:20.643208",
     "exception": false,
     "start_time": "2023-02-13T16:38:20.611355",
     "status": "completed"
    },
    "tags": []
   },
   "outputs": [
    {
     "data": {
      "text/plain": [
       "Id               0.0\n",
       "MSSubClass       0.0\n",
       "MSZoning         0.0\n",
       "LotFrontage      0.0\n",
       "LotArea          0.0\n",
       "                ... \n",
       "MoSold           0.0\n",
       "YrSold           0.0\n",
       "SaleType         0.0\n",
       "SaleCondition    0.0\n",
       "SalePrice        0.0\n",
       "Length: 76, dtype: float64"
      ]
     },
     "execution_count": 10,
     "metadata": {},
     "output_type": "execute_result"
    }
   ],
   "source": [
    "(train.isna().mean() * 100).round(2)"
   ]
  },
  {
   "cell_type": "markdown",
   "id": "3ac931e9",
   "metadata": {
    "papermill": {
     "duration": 0.013265,
     "end_time": "2023-02-13T16:38:20.669967",
     "exception": false,
     "start_time": "2023-02-13T16:38:20.656702",
     "status": "completed"
    },
    "tags": []
   },
   "source": [
    ">  ### We handled empty values."
   ]
  },
  {
   "cell_type": "markdown",
   "id": "69a514e7",
   "metadata": {
    "papermill": {
     "duration": 0.013215,
     "end_time": "2023-02-13T16:38:20.696653",
     "exception": false,
     "start_time": "2023-02-13T16:38:20.683438",
     "status": "completed"
    },
    "tags": []
   },
   "source": [
    "## OUTLIERS"
   ]
  },
  {
   "cell_type": "code",
   "execution_count": 11,
   "id": "cf1daf70",
   "metadata": {
    "execution": {
     "iopub.execute_input": "2023-02-13T16:38:20.725563Z",
     "iopub.status.busy": "2023-02-13T16:38:20.725065Z",
     "iopub.status.idle": "2023-02-13T16:38:21.255820Z",
     "shell.execute_reply": "2023-02-13T16:38:21.254470Z"
    },
    "papermill": {
     "duration": 0.548476,
     "end_time": "2023-02-13T16:38:21.258612",
     "exception": false,
     "start_time": "2023-02-13T16:38:20.710136",
     "status": "completed"
    },
    "tags": []
   },
   "outputs": [],
   "source": [
    "from sklearn.ensemble import IsolationForest\n",
    "\n",
    "iso = IsolationForest(random_state=42)\n",
    "y_outliers = iso.fit_predict(train.select_dtypes(include=['int64', 'float64']))\n",
    "\n",
    "for i in range(len(y_outliers)):\n",
    "    if y_outliers[i] == -1:\n",
    "        train.drop(i, inplace = True)"
   ]
  },
  {
   "cell_type": "code",
   "execution_count": 12,
   "id": "fd3c431e",
   "metadata": {
    "execution": {
     "iopub.execute_input": "2023-02-13T16:38:21.287887Z",
     "iopub.status.busy": "2023-02-13T16:38:21.287432Z",
     "iopub.status.idle": "2023-02-13T16:38:21.295370Z",
     "shell.execute_reply": "2023-02-13T16:38:21.294010Z"
    },
    "papermill": {
     "duration": 0.025411,
     "end_time": "2023-02-13T16:38:21.297736",
     "exception": false,
     "start_time": "2023-02-13T16:38:21.272325",
     "status": "completed"
    },
    "tags": []
   },
   "outputs": [
    {
     "data": {
      "text/plain": [
       "(1400, 76)"
      ]
     },
     "execution_count": 12,
     "metadata": {},
     "output_type": "execute_result"
    }
   ],
   "source": [
    "train.shape"
   ]
  },
  {
   "cell_type": "code",
   "execution_count": 13,
   "id": "253e05df",
   "metadata": {
    "execution": {
     "iopub.execute_input": "2023-02-13T16:38:21.328520Z",
     "iopub.status.busy": "2023-02-13T16:38:21.327243Z",
     "iopub.status.idle": "2023-02-13T16:38:21.338212Z",
     "shell.execute_reply": "2023-02-13T16:38:21.336584Z"
    },
    "papermill": {
     "duration": 0.029084,
     "end_time": "2023-02-13T16:38:21.340907",
     "exception": false,
     "start_time": "2023-02-13T16:38:21.311823",
     "status": "completed"
    },
    "tags": []
   },
   "outputs": [],
   "source": [
    "# separate dataset:\n",
    "train_object = train.select_dtypes(include=['object'])\n",
    "train_num = train.select_dtypes(include=['int64', 'float64'])"
   ]
  },
  {
   "cell_type": "code",
   "execution_count": 14,
   "id": "194c4acb",
   "metadata": {
    "execution": {
     "iopub.execute_input": "2023-02-13T16:38:21.370322Z",
     "iopub.status.busy": "2023-02-13T16:38:21.369865Z",
     "iopub.status.idle": "2023-02-13T16:38:21.384282Z",
     "shell.execute_reply": "2023-02-13T16:38:21.382839Z"
    },
    "papermill": {
     "duration": 0.033152,
     "end_time": "2023-02-13T16:38:21.387973",
     "exception": false,
     "start_time": "2023-02-13T16:38:21.354821",
     "status": "completed"
    },
    "tags": []
   },
   "outputs": [
    {
     "name": "stdout",
     "output_type": "stream",
     "text": [
      "Utilities\n",
      "AllPub       1399\n",
      "NoSeWa          1\n",
      "dtype: int64\n",
      "Street\n",
      "Pave      1396\n",
      "Grvl         4\n",
      "dtype: int64\n"
     ]
    }
   ],
   "source": [
    "# let's delete this features due to imbalance\n",
    "print(train_object[['Utilities']].value_counts())\n",
    "print(train_object[['Street']].value_counts())"
   ]
  },
  {
   "cell_type": "code",
   "execution_count": 15,
   "id": "b3d72b0a",
   "metadata": {
    "execution": {
     "iopub.execute_input": "2023-02-13T16:38:21.418353Z",
     "iopub.status.busy": "2023-02-13T16:38:21.417930Z",
     "iopub.status.idle": "2023-02-13T16:38:21.424526Z",
     "shell.execute_reply": "2023-02-13T16:38:21.423211Z"
    },
    "papermill": {
     "duration": 0.024155,
     "end_time": "2023-02-13T16:38:21.426854",
     "exception": false,
     "start_time": "2023-02-13T16:38:21.402699",
     "status": "completed"
    },
    "tags": []
   },
   "outputs": [],
   "source": [
    "train_object = train_object.drop(columns=['Utilities', 'Street'])"
   ]
  },
  {
   "cell_type": "code",
   "execution_count": 16,
   "id": "ab238d9f",
   "metadata": {
    "execution": {
     "iopub.execute_input": "2023-02-13T16:38:21.456065Z",
     "iopub.status.busy": "2023-02-13T16:38:21.455675Z",
     "iopub.status.idle": "2023-02-13T16:38:21.542354Z",
     "shell.execute_reply": "2023-02-13T16:38:21.541255Z"
    },
    "papermill": {
     "duration": 0.10476,
     "end_time": "2023-02-13T16:38:21.545295",
     "exception": false,
     "start_time": "2023-02-13T16:38:21.440535",
     "status": "completed"
    },
    "tags": []
   },
   "outputs": [],
   "source": [
    "# encode object features\n",
    "from sklearn.preprocessing import OrdinalEncoder\n",
    "ord_enc = OrdinalEncoder()\n",
    "\n",
    "\n",
    "for i in train_object.columns:\n",
    "      train_object[i] = ord_enc.fit_transform(train_object[[i]])"
   ]
  },
  {
   "cell_type": "code",
   "execution_count": 17,
   "id": "1e07889b",
   "metadata": {
    "execution": {
     "iopub.execute_input": "2023-02-13T16:38:21.574858Z",
     "iopub.status.busy": "2023-02-13T16:38:21.574447Z",
     "iopub.status.idle": "2023-02-13T16:38:21.599401Z",
     "shell.execute_reply": "2023-02-13T16:38:21.598181Z"
    },
    "papermill": {
     "duration": 0.042885,
     "end_time": "2023-02-13T16:38:21.602017",
     "exception": false,
     "start_time": "2023-02-13T16:38:21.559132",
     "status": "completed"
    },
    "tags": []
   },
   "outputs": [
    {
     "data": {
      "text/html": [
       "<div>\n",
       "<style scoped>\n",
       "    .dataframe tbody tr th:only-of-type {\n",
       "        vertical-align: middle;\n",
       "    }\n",
       "\n",
       "    .dataframe tbody tr th {\n",
       "        vertical-align: top;\n",
       "    }\n",
       "\n",
       "    .dataframe thead th {\n",
       "        text-align: right;\n",
       "    }\n",
       "</style>\n",
       "<table border=\"1\" class=\"dataframe\">\n",
       "  <thead>\n",
       "    <tr style=\"text-align: right;\">\n",
       "      <th></th>\n",
       "      <th>MSZoning</th>\n",
       "      <th>LotShape</th>\n",
       "      <th>LandContour</th>\n",
       "      <th>LotConfig</th>\n",
       "      <th>LandSlope</th>\n",
       "      <th>Neighborhood</th>\n",
       "      <th>Condition1</th>\n",
       "      <th>Condition2</th>\n",
       "      <th>BldgType</th>\n",
       "      <th>HouseStyle</th>\n",
       "      <th>...</th>\n",
       "      <th>Electrical</th>\n",
       "      <th>KitchenQual</th>\n",
       "      <th>Functional</th>\n",
       "      <th>GarageType</th>\n",
       "      <th>GarageFinish</th>\n",
       "      <th>GarageQual</th>\n",
       "      <th>GarageCond</th>\n",
       "      <th>PavedDrive</th>\n",
       "      <th>SaleType</th>\n",
       "      <th>SaleCondition</th>\n",
       "    </tr>\n",
       "  </thead>\n",
       "  <tbody>\n",
       "    <tr>\n",
       "      <th>0</th>\n",
       "      <td>3</td>\n",
       "      <td>3</td>\n",
       "      <td>3</td>\n",
       "      <td>4</td>\n",
       "      <td>0</td>\n",
       "      <td>5</td>\n",
       "      <td>2</td>\n",
       "      <td>2</td>\n",
       "      <td>0</td>\n",
       "      <td>5</td>\n",
       "      <td>...</td>\n",
       "      <td>4</td>\n",
       "      <td>2</td>\n",
       "      <td>6</td>\n",
       "      <td>1</td>\n",
       "      <td>1</td>\n",
       "      <td>4</td>\n",
       "      <td>4</td>\n",
       "      <td>2</td>\n",
       "      <td>8</td>\n",
       "      <td>4</td>\n",
       "    </tr>\n",
       "    <tr>\n",
       "      <th>1</th>\n",
       "      <td>3</td>\n",
       "      <td>3</td>\n",
       "      <td>3</td>\n",
       "      <td>2</td>\n",
       "      <td>0</td>\n",
       "      <td>24</td>\n",
       "      <td>1</td>\n",
       "      <td>2</td>\n",
       "      <td>0</td>\n",
       "      <td>2</td>\n",
       "      <td>...</td>\n",
       "      <td>4</td>\n",
       "      <td>3</td>\n",
       "      <td>6</td>\n",
       "      <td>1</td>\n",
       "      <td>1</td>\n",
       "      <td>4</td>\n",
       "      <td>4</td>\n",
       "      <td>2</td>\n",
       "      <td>8</td>\n",
       "      <td>4</td>\n",
       "    </tr>\n",
       "    <tr>\n",
       "      <th>2</th>\n",
       "      <td>3</td>\n",
       "      <td>0</td>\n",
       "      <td>3</td>\n",
       "      <td>4</td>\n",
       "      <td>0</td>\n",
       "      <td>5</td>\n",
       "      <td>2</td>\n",
       "      <td>2</td>\n",
       "      <td>0</td>\n",
       "      <td>5</td>\n",
       "      <td>...</td>\n",
       "      <td>4</td>\n",
       "      <td>2</td>\n",
       "      <td>6</td>\n",
       "      <td>1</td>\n",
       "      <td>1</td>\n",
       "      <td>4</td>\n",
       "      <td>4</td>\n",
       "      <td>2</td>\n",
       "      <td>8</td>\n",
       "      <td>4</td>\n",
       "    </tr>\n",
       "    <tr>\n",
       "      <th>3</th>\n",
       "      <td>3</td>\n",
       "      <td>0</td>\n",
       "      <td>3</td>\n",
       "      <td>0</td>\n",
       "      <td>0</td>\n",
       "      <td>6</td>\n",
       "      <td>2</td>\n",
       "      <td>2</td>\n",
       "      <td>0</td>\n",
       "      <td>5</td>\n",
       "      <td>...</td>\n",
       "      <td>4</td>\n",
       "      <td>2</td>\n",
       "      <td>6</td>\n",
       "      <td>5</td>\n",
       "      <td>2</td>\n",
       "      <td>4</td>\n",
       "      <td>4</td>\n",
       "      <td>2</td>\n",
       "      <td>8</td>\n",
       "      <td>0</td>\n",
       "    </tr>\n",
       "    <tr>\n",
       "      <th>4</th>\n",
       "      <td>3</td>\n",
       "      <td>0</td>\n",
       "      <td>3</td>\n",
       "      <td>2</td>\n",
       "      <td>0</td>\n",
       "      <td>15</td>\n",
       "      <td>2</td>\n",
       "      <td>2</td>\n",
       "      <td>0</td>\n",
       "      <td>5</td>\n",
       "      <td>...</td>\n",
       "      <td>4</td>\n",
       "      <td>2</td>\n",
       "      <td>6</td>\n",
       "      <td>1</td>\n",
       "      <td>1</td>\n",
       "      <td>4</td>\n",
       "      <td>4</td>\n",
       "      <td>2</td>\n",
       "      <td>8</td>\n",
       "      <td>4</td>\n",
       "    </tr>\n",
       "    <tr>\n",
       "      <th>...</th>\n",
       "      <td>...</td>\n",
       "      <td>...</td>\n",
       "      <td>...</td>\n",
       "      <td>...</td>\n",
       "      <td>...</td>\n",
       "      <td>...</td>\n",
       "      <td>...</td>\n",
       "      <td>...</td>\n",
       "      <td>...</td>\n",
       "      <td>...</td>\n",
       "      <td>...</td>\n",
       "      <td>...</td>\n",
       "      <td>...</td>\n",
       "      <td>...</td>\n",
       "      <td>...</td>\n",
       "      <td>...</td>\n",
       "      <td>...</td>\n",
       "      <td>...</td>\n",
       "      <td>...</td>\n",
       "      <td>...</td>\n",
       "      <td>...</td>\n",
       "    </tr>\n",
       "    <tr>\n",
       "      <th>1454</th>\n",
       "      <td>1</td>\n",
       "      <td>3</td>\n",
       "      <td>3</td>\n",
       "      <td>4</td>\n",
       "      <td>0</td>\n",
       "      <td>21</td>\n",
       "      <td>2</td>\n",
       "      <td>2</td>\n",
       "      <td>0</td>\n",
       "      <td>2</td>\n",
       "      <td>...</td>\n",
       "      <td>4</td>\n",
       "      <td>2</td>\n",
       "      <td>6</td>\n",
       "      <td>1</td>\n",
       "      <td>1</td>\n",
       "      <td>4</td>\n",
       "      <td>4</td>\n",
       "      <td>2</td>\n",
       "      <td>8</td>\n",
       "      <td>4</td>\n",
       "    </tr>\n",
       "    <tr>\n",
       "      <th>1455</th>\n",
       "      <td>3</td>\n",
       "      <td>3</td>\n",
       "      <td>3</td>\n",
       "      <td>4</td>\n",
       "      <td>0</td>\n",
       "      <td>8</td>\n",
       "      <td>2</td>\n",
       "      <td>2</td>\n",
       "      <td>0</td>\n",
       "      <td>5</td>\n",
       "      <td>...</td>\n",
       "      <td>4</td>\n",
       "      <td>3</td>\n",
       "      <td>6</td>\n",
       "      <td>1</td>\n",
       "      <td>1</td>\n",
       "      <td>4</td>\n",
       "      <td>4</td>\n",
       "      <td>2</td>\n",
       "      <td>8</td>\n",
       "      <td>4</td>\n",
       "    </tr>\n",
       "    <tr>\n",
       "      <th>1456</th>\n",
       "      <td>3</td>\n",
       "      <td>3</td>\n",
       "      <td>3</td>\n",
       "      <td>4</td>\n",
       "      <td>0</td>\n",
       "      <td>14</td>\n",
       "      <td>2</td>\n",
       "      <td>2</td>\n",
       "      <td>0</td>\n",
       "      <td>2</td>\n",
       "      <td>...</td>\n",
       "      <td>4</td>\n",
       "      <td>3</td>\n",
       "      <td>2</td>\n",
       "      <td>1</td>\n",
       "      <td>2</td>\n",
       "      <td>4</td>\n",
       "      <td>4</td>\n",
       "      <td>2</td>\n",
       "      <td>8</td>\n",
       "      <td>4</td>\n",
       "    </tr>\n",
       "    <tr>\n",
       "      <th>1458</th>\n",
       "      <td>3</td>\n",
       "      <td>3</td>\n",
       "      <td>3</td>\n",
       "      <td>4</td>\n",
       "      <td>0</td>\n",
       "      <td>12</td>\n",
       "      <td>2</td>\n",
       "      <td>2</td>\n",
       "      <td>0</td>\n",
       "      <td>2</td>\n",
       "      <td>...</td>\n",
       "      <td>0</td>\n",
       "      <td>2</td>\n",
       "      <td>6</td>\n",
       "      <td>1</td>\n",
       "      <td>2</td>\n",
       "      <td>4</td>\n",
       "      <td>4</td>\n",
       "      <td>2</td>\n",
       "      <td>8</td>\n",
       "      <td>4</td>\n",
       "    </tr>\n",
       "    <tr>\n",
       "      <th>1459</th>\n",
       "      <td>3</td>\n",
       "      <td>3</td>\n",
       "      <td>3</td>\n",
       "      <td>4</td>\n",
       "      <td>0</td>\n",
       "      <td>7</td>\n",
       "      <td>2</td>\n",
       "      <td>2</td>\n",
       "      <td>0</td>\n",
       "      <td>2</td>\n",
       "      <td>...</td>\n",
       "      <td>4</td>\n",
       "      <td>3</td>\n",
       "      <td>6</td>\n",
       "      <td>1</td>\n",
       "      <td>0</td>\n",
       "      <td>4</td>\n",
       "      <td>4</td>\n",
       "      <td>2</td>\n",
       "      <td>8</td>\n",
       "      <td>4</td>\n",
       "    </tr>\n",
       "  </tbody>\n",
       "</table>\n",
       "<p>1400 rows × 36 columns</p>\n",
       "</div>"
      ],
      "text/plain": [
       "      MSZoning  LotShape  LandContour  LotConfig  LandSlope  Neighborhood  \\\n",
       "0            3         3            3          4          0             5   \n",
       "1            3         3            3          2          0            24   \n",
       "2            3         0            3          4          0             5   \n",
       "3            3         0            3          0          0             6   \n",
       "4            3         0            3          2          0            15   \n",
       "...        ...       ...          ...        ...        ...           ...   \n",
       "1454         1         3            3          4          0            21   \n",
       "1455         3         3            3          4          0             8   \n",
       "1456         3         3            3          4          0            14   \n",
       "1458         3         3            3          4          0            12   \n",
       "1459         3         3            3          4          0             7   \n",
       "\n",
       "      Condition1  Condition2  BldgType  HouseStyle  ...  Electrical  \\\n",
       "0              2           2         0           5  ...           4   \n",
       "1              1           2         0           2  ...           4   \n",
       "2              2           2         0           5  ...           4   \n",
       "3              2           2         0           5  ...           4   \n",
       "4              2           2         0           5  ...           4   \n",
       "...          ...         ...       ...         ...  ...         ...   \n",
       "1454           2           2         0           2  ...           4   \n",
       "1455           2           2         0           5  ...           4   \n",
       "1456           2           2         0           2  ...           4   \n",
       "1458           2           2         0           2  ...           0   \n",
       "1459           2           2         0           2  ...           4   \n",
       "\n",
       "      KitchenQual  Functional  GarageType  GarageFinish  GarageQual  \\\n",
       "0               2           6           1             1           4   \n",
       "1               3           6           1             1           4   \n",
       "2               2           6           1             1           4   \n",
       "3               2           6           5             2           4   \n",
       "4               2           6           1             1           4   \n",
       "...           ...         ...         ...           ...         ...   \n",
       "1454            2           6           1             1           4   \n",
       "1455            3           6           1             1           4   \n",
       "1456            3           2           1             2           4   \n",
       "1458            2           6           1             2           4   \n",
       "1459            3           6           1             0           4   \n",
       "\n",
       "      GarageCond  PavedDrive  SaleType  SaleCondition  \n",
       "0              4           2         8              4  \n",
       "1              4           2         8              4  \n",
       "2              4           2         8              4  \n",
       "3              4           2         8              0  \n",
       "4              4           2         8              4  \n",
       "...          ...         ...       ...            ...  \n",
       "1454           4           2         8              4  \n",
       "1455           4           2         8              4  \n",
       "1456           4           2         8              4  \n",
       "1458           4           2         8              4  \n",
       "1459           4           2         8              4  \n",
       "\n",
       "[1400 rows x 36 columns]"
      ]
     },
     "execution_count": 17,
     "metadata": {},
     "output_type": "execute_result"
    }
   ],
   "source": [
    "train_object.astype('int')"
   ]
  },
  {
   "cell_type": "code",
   "execution_count": 18,
   "id": "02dce291",
   "metadata": {
    "execution": {
     "iopub.execute_input": "2023-02-13T16:38:21.632422Z",
     "iopub.status.busy": "2023-02-13T16:38:21.631989Z",
     "iopub.status.idle": "2023-02-13T16:38:21.665093Z",
     "shell.execute_reply": "2023-02-13T16:38:21.663705Z"
    },
    "papermill": {
     "duration": 0.051447,
     "end_time": "2023-02-13T16:38:21.667832",
     "exception": false,
     "start_time": "2023-02-13T16:38:21.616385",
     "status": "completed"
    },
    "tags": []
   },
   "outputs": [
    {
     "data": {
      "text/html": [
       "<div>\n",
       "<style scoped>\n",
       "    .dataframe tbody tr th:only-of-type {\n",
       "        vertical-align: middle;\n",
       "    }\n",
       "\n",
       "    .dataframe tbody tr th {\n",
       "        vertical-align: top;\n",
       "    }\n",
       "\n",
       "    .dataframe thead th {\n",
       "        text-align: right;\n",
       "    }\n",
       "</style>\n",
       "<table border=\"1\" class=\"dataframe\">\n",
       "  <thead>\n",
       "    <tr style=\"text-align: right;\">\n",
       "      <th></th>\n",
       "      <th>MSZoning</th>\n",
       "      <th>LotShape</th>\n",
       "      <th>LandContour</th>\n",
       "      <th>LotConfig</th>\n",
       "      <th>LandSlope</th>\n",
       "      <th>Neighborhood</th>\n",
       "      <th>Condition1</th>\n",
       "      <th>Condition2</th>\n",
       "      <th>BldgType</th>\n",
       "      <th>HouseStyle</th>\n",
       "      <th>...</th>\n",
       "      <th>KitchenQual</th>\n",
       "      <th>Functional</th>\n",
       "      <th>GarageType</th>\n",
       "      <th>GarageFinish</th>\n",
       "      <th>GarageQual</th>\n",
       "      <th>GarageCond</th>\n",
       "      <th>PavedDrive</th>\n",
       "      <th>SaleType</th>\n",
       "      <th>SaleCondition</th>\n",
       "      <th>SalePrice</th>\n",
       "    </tr>\n",
       "  </thead>\n",
       "  <tbody>\n",
       "    <tr>\n",
       "      <th>0</th>\n",
       "      <td>3.0</td>\n",
       "      <td>3.0</td>\n",
       "      <td>3.0</td>\n",
       "      <td>4.0</td>\n",
       "      <td>0.0</td>\n",
       "      <td>5.0</td>\n",
       "      <td>2.0</td>\n",
       "      <td>2.0</td>\n",
       "      <td>0.0</td>\n",
       "      <td>5.0</td>\n",
       "      <td>...</td>\n",
       "      <td>2.0</td>\n",
       "      <td>6.0</td>\n",
       "      <td>1.0</td>\n",
       "      <td>1.0</td>\n",
       "      <td>4.0</td>\n",
       "      <td>4.0</td>\n",
       "      <td>2.0</td>\n",
       "      <td>8.0</td>\n",
       "      <td>4.0</td>\n",
       "      <td>208500</td>\n",
       "    </tr>\n",
       "    <tr>\n",
       "      <th>1</th>\n",
       "      <td>3.0</td>\n",
       "      <td>3.0</td>\n",
       "      <td>3.0</td>\n",
       "      <td>2.0</td>\n",
       "      <td>0.0</td>\n",
       "      <td>24.0</td>\n",
       "      <td>1.0</td>\n",
       "      <td>2.0</td>\n",
       "      <td>0.0</td>\n",
       "      <td>2.0</td>\n",
       "      <td>...</td>\n",
       "      <td>3.0</td>\n",
       "      <td>6.0</td>\n",
       "      <td>1.0</td>\n",
       "      <td>1.0</td>\n",
       "      <td>4.0</td>\n",
       "      <td>4.0</td>\n",
       "      <td>2.0</td>\n",
       "      <td>8.0</td>\n",
       "      <td>4.0</td>\n",
       "      <td>181500</td>\n",
       "    </tr>\n",
       "    <tr>\n",
       "      <th>2</th>\n",
       "      <td>3.0</td>\n",
       "      <td>0.0</td>\n",
       "      <td>3.0</td>\n",
       "      <td>4.0</td>\n",
       "      <td>0.0</td>\n",
       "      <td>5.0</td>\n",
       "      <td>2.0</td>\n",
       "      <td>2.0</td>\n",
       "      <td>0.0</td>\n",
       "      <td>5.0</td>\n",
       "      <td>...</td>\n",
       "      <td>2.0</td>\n",
       "      <td>6.0</td>\n",
       "      <td>1.0</td>\n",
       "      <td>1.0</td>\n",
       "      <td>4.0</td>\n",
       "      <td>4.0</td>\n",
       "      <td>2.0</td>\n",
       "      <td>8.0</td>\n",
       "      <td>4.0</td>\n",
       "      <td>223500</td>\n",
       "    </tr>\n",
       "    <tr>\n",
       "      <th>3</th>\n",
       "      <td>3.0</td>\n",
       "      <td>0.0</td>\n",
       "      <td>3.0</td>\n",
       "      <td>0.0</td>\n",
       "      <td>0.0</td>\n",
       "      <td>6.0</td>\n",
       "      <td>2.0</td>\n",
       "      <td>2.0</td>\n",
       "      <td>0.0</td>\n",
       "      <td>5.0</td>\n",
       "      <td>...</td>\n",
       "      <td>2.0</td>\n",
       "      <td>6.0</td>\n",
       "      <td>5.0</td>\n",
       "      <td>2.0</td>\n",
       "      <td>4.0</td>\n",
       "      <td>4.0</td>\n",
       "      <td>2.0</td>\n",
       "      <td>8.0</td>\n",
       "      <td>0.0</td>\n",
       "      <td>140000</td>\n",
       "    </tr>\n",
       "    <tr>\n",
       "      <th>4</th>\n",
       "      <td>3.0</td>\n",
       "      <td>0.0</td>\n",
       "      <td>3.0</td>\n",
       "      <td>2.0</td>\n",
       "      <td>0.0</td>\n",
       "      <td>15.0</td>\n",
       "      <td>2.0</td>\n",
       "      <td>2.0</td>\n",
       "      <td>0.0</td>\n",
       "      <td>5.0</td>\n",
       "      <td>...</td>\n",
       "      <td>2.0</td>\n",
       "      <td>6.0</td>\n",
       "      <td>1.0</td>\n",
       "      <td>1.0</td>\n",
       "      <td>4.0</td>\n",
       "      <td>4.0</td>\n",
       "      <td>2.0</td>\n",
       "      <td>8.0</td>\n",
       "      <td>4.0</td>\n",
       "      <td>250000</td>\n",
       "    </tr>\n",
       "  </tbody>\n",
       "</table>\n",
       "<p>5 rows × 37 columns</p>\n",
       "</div>"
      ],
      "text/plain": [
       "   MSZoning  LotShape  LandContour  LotConfig  LandSlope  Neighborhood  \\\n",
       "0       3.0       3.0          3.0        4.0        0.0           5.0   \n",
       "1       3.0       3.0          3.0        2.0        0.0          24.0   \n",
       "2       3.0       0.0          3.0        4.0        0.0           5.0   \n",
       "3       3.0       0.0          3.0        0.0        0.0           6.0   \n",
       "4       3.0       0.0          3.0        2.0        0.0          15.0   \n",
       "\n",
       "   Condition1  Condition2  BldgType  HouseStyle  ...  KitchenQual  Functional  \\\n",
       "0         2.0         2.0       0.0         5.0  ...          2.0         6.0   \n",
       "1         1.0         2.0       0.0         2.0  ...          3.0         6.0   \n",
       "2         2.0         2.0       0.0         5.0  ...          2.0         6.0   \n",
       "3         2.0         2.0       0.0         5.0  ...          2.0         6.0   \n",
       "4         2.0         2.0       0.0         5.0  ...          2.0         6.0   \n",
       "\n",
       "   GarageType  GarageFinish  GarageQual  GarageCond  PavedDrive  SaleType  \\\n",
       "0         1.0           1.0         4.0         4.0         2.0       8.0   \n",
       "1         1.0           1.0         4.0         4.0         2.0       8.0   \n",
       "2         1.0           1.0         4.0         4.0         2.0       8.0   \n",
       "3         5.0           2.0         4.0         4.0         2.0       8.0   \n",
       "4         1.0           1.0         4.0         4.0         2.0       8.0   \n",
       "\n",
       "   SaleCondition  SalePrice  \n",
       "0            4.0     208500  \n",
       "1            4.0     181500  \n",
       "2            4.0     223500  \n",
       "3            0.0     140000  \n",
       "4            4.0     250000  \n",
       "\n",
       "[5 rows x 37 columns]"
      ]
     },
     "execution_count": 18,
     "metadata": {},
     "output_type": "execute_result"
    }
   ],
   "source": [
    "train_object['SalePrice'] = train_num['SalePrice']\n",
    "train_object.head()"
   ]
  },
  {
   "cell_type": "code",
   "execution_count": 19,
   "id": "f5c1f056",
   "metadata": {
    "execution": {
     "iopub.execute_input": "2023-02-13T16:38:21.699293Z",
     "iopub.status.busy": "2023-02-13T16:38:21.698092Z",
     "iopub.status.idle": "2023-02-13T16:38:22.800378Z",
     "shell.execute_reply": "2023-02-13T16:38:22.799360Z"
    },
    "papermill": {
     "duration": 1.120415,
     "end_time": "2023-02-13T16:38:22.802868",
     "exception": false,
     "start_time": "2023-02-13T16:38:21.682453",
     "status": "completed"
    },
    "tags": []
   },
   "outputs": [
    {
     "data": {
      "image/png": "[encoded data removed]",
      "text/plain": [
       "<Figure size 1500x1000 with 2 Axes>"
      ]
     },
     "metadata": {},
     "output_type": "display_data"
    }
   ],
   "source": [
    "import seaborn as sbs\n",
    "import matplotlib.pyplot as plt\n",
    "\n",
    "corr = train_object.corr(method = 'spearman')\n",
    "fig = plt.figure(figsize=(15,10))\n",
    "ax = fig.add_subplot(111)\n",
    "cax = ax.matshow(corr,cmap='coolwarm', vmin=-1, vmax=1)\n",
    "fig.colorbar(cax)\n",
    "ticks = np.arange(0,len(corr.columns),1)\n",
    "ax.set_xticks(ticks)\n",
    "plt.xticks(rotation=90)\n",
    "ax.set_yticks(ticks)\n",
    "ax.set_xticklabels(train_object.columns)\n",
    "ax.set_yticklabels(train_object.columns)\n",
    "plt.show()"
   ]
  },
  {
   "cell_type": "markdown",
   "id": "c5b68cf7",
   "metadata": {
    "papermill": {
     "duration": 0.015194,
     "end_time": "2023-02-13T16:38:22.833944",
     "exception": false,
     "start_time": "2023-02-13T16:38:22.818750",
     "status": "completed"
    },
    "tags": []
   },
   "source": [
    "> ### We can see high correlation between features:\n",
    "\n",
    "* Exterior1st-Exterior2nd\n",
    "* KitchenQual-ExterQual\n",
    "* BsmtQual-ExterQual\n",
    "* GarageCond-GarageQual\n",
    "* BsmtQual-KitchenQual\n",
    "* Foundation-YearBuilt"
   ]
  },
  {
   "cell_type": "code",
   "execution_count": 20,
   "id": "9ab08776",
   "metadata": {
    "execution": {
     "iopub.execute_input": "2023-02-13T16:38:22.867043Z",
     "iopub.status.busy": "2023-02-13T16:38:22.866634Z",
     "iopub.status.idle": "2023-02-13T16:38:22.883423Z",
     "shell.execute_reply": "2023-02-13T16:38:22.882111Z"
    },
    "papermill": {
     "duration": 0.036611,
     "end_time": "2023-02-13T16:38:22.886100",
     "exception": false,
     "start_time": "2023-02-13T16:38:22.849489",
     "status": "completed"
    },
    "tags": []
   },
   "outputs": [
    {
     "data": {
      "text/plain": [
       "SalePrice        100.000000\n",
       "Foundation        43.434957\n",
       "CentralAir        26.500795\n",
       "Electrical        24.876586\n",
       "PavedDrive        24.823240\n",
       "SaleCondition     24.204308\n",
       "Neighborhood      20.031474\n",
       "HouseStyle        19.262102\n",
       "RoofStyle         18.314367\n",
       "ExterCond         14.765067\n",
       "GarageCond        14.596431\n",
       "GarageQual        13.687635\n",
       "Exterior2nd       12.554779\n",
       "Functional        12.459567\n",
       "Exterior1st       12.407410\n",
       "Condition1        11.832885\n",
       "BsmtFinType2       5.750825\n",
       "RoofMatl           5.466770\n",
       "BsmtCond           5.264803\n",
       "LandSlope          4.290576\n",
       "LandContour        2.203348\n",
       "Condition2         1.107734\n",
       "MasVnrType        -0.024766\n",
       "SaleType          -5.891562\n",
       "LotConfig         -5.906961\n",
       "BldgType          -6.723230\n",
       "BsmtFinType1      -9.584435\n",
       "Heating          -12.090965\n",
       "MSZoning         -21.202731\n",
       "LotShape         -25.916584\n",
       "BsmtExposure     -29.815967\n",
       "GarageType       -35.233429\n",
       "HeatingQC        -42.337119\n",
       "GarageFinish     -57.265647\n",
       "KitchenQual      -58.983649\n",
       "BsmtQual         -63.021646\n",
       "ExterQual        -65.865943\n",
       "Name: SalePrice, dtype: float64"
      ]
     },
     "execution_count": 20,
     "metadata": {},
     "output_type": "execute_result"
    }
   ],
   "source": [
    "# correlation betwee SalePrice and object features\n",
    "(train_object.corr()['SalePrice']*100).sort_values(ascending=False)"
   ]
  },
  {
   "cell_type": "code",
   "execution_count": 21,
   "id": "3cc1dcb5",
   "metadata": {
    "execution": {
     "iopub.execute_input": "2023-02-13T16:38:22.919517Z",
     "iopub.status.busy": "2023-02-13T16:38:22.919067Z",
     "iopub.status.idle": "2023-02-13T16:38:23.412097Z",
     "shell.execute_reply": "2023-02-13T16:38:23.410457Z"
    },
    "papermill": {
     "duration": 0.515535,
     "end_time": "2023-02-13T16:38:23.417349",
     "exception": false,
     "start_time": "2023-02-13T16:38:22.901814",
     "status": "completed"
    },
    "tags": []
   },
   "outputs": [
    {
     "data": {
      "text/html": [
       "<div>\n",
       "<style scoped>\n",
       "    .dataframe tbody tr th:only-of-type {\n",
       "        vertical-align: middle;\n",
       "    }\n",
       "\n",
       "    .dataframe tbody tr th {\n",
       "        vertical-align: top;\n",
       "    }\n",
       "\n",
       "    .dataframe thead th {\n",
       "        text-align: right;\n",
       "    }\n",
       "</style>\n",
       "<table border=\"1\" class=\"dataframe\">\n",
       "  <thead>\n",
       "    <tr style=\"text-align: right;\">\n",
       "      <th></th>\n",
       "      <th>VIF</th>\n",
       "      <th>variable</th>\n",
       "    </tr>\n",
       "  </thead>\n",
       "  <tbody>\n",
       "    <tr>\n",
       "      <th>7</th>\n",
       "      <td>122.708908</td>\n",
       "      <td>Condition2</td>\n",
       "    </tr>\n",
       "    <tr>\n",
       "      <th>32</th>\n",
       "      <td>87.599051</td>\n",
       "      <td>GarageCond</td>\n",
       "    </tr>\n",
       "    <tr>\n",
       "      <th>31</th>\n",
       "      <td>67.591337</td>\n",
       "      <td>GarageQual</td>\n",
       "    </tr>\n",
       "    <tr>\n",
       "      <th>12</th>\n",
       "      <td>41.698808</td>\n",
       "      <td>Exterior1st</td>\n",
       "    </tr>\n",
       "    <tr>\n",
       "      <th>15</th>\n",
       "      <td>40.488234</td>\n",
       "      <td>ExterQual</td>\n",
       "    </tr>\n",
       "    <tr>\n",
       "      <th>13</th>\n",
       "      <td>40.044952</td>\n",
       "      <td>Exterior2nd</td>\n",
       "    </tr>\n",
       "    <tr>\n",
       "      <th>28</th>\n",
       "      <td>37.127213</td>\n",
       "      <td>Functional</td>\n",
       "    </tr>\n",
       "    <tr>\n",
       "      <th>16</th>\n",
       "      <td>31.104932</td>\n",
       "      <td>ExterCond</td>\n",
       "    </tr>\n",
       "    <tr>\n",
       "      <th>22</th>\n",
       "      <td>29.039360</td>\n",
       "      <td>BsmtFinType2</td>\n",
       "    </tr>\n",
       "    <tr>\n",
       "      <th>0</th>\n",
       "      <td>27.907582</td>\n",
       "      <td>MSZoning</td>\n",
       "    </tr>\n",
       "  </tbody>\n",
       "</table>\n",
       "</div>"
      ],
      "text/plain": [
       "           VIF      variable\n",
       "7   122.708908    Condition2\n",
       "32   87.599051    GarageCond\n",
       "31   67.591337    GarageQual\n",
       "12   41.698808   Exterior1st\n",
       "15   40.488234     ExterQual\n",
       "13   40.044952   Exterior2nd\n",
       "28   37.127213    Functional\n",
       "16   31.104932     ExterCond\n",
       "22   29.039360  BsmtFinType2\n",
       "0    27.907582      MSZoning"
      ]
     },
     "execution_count": 21,
     "metadata": {},
     "output_type": "execute_result"
    }
   ],
   "source": [
    "from statsmodels.stats.outliers_influence import variance_inflation_factor\n",
    "\n",
    "vif = pd.DataFrame()\n",
    "vif['VIF'] = [variance_inflation_factor(train_object.values, i) for i in range(train_object.shape[1])]\n",
    "vif['variable'] = train_object.columns\n",
    "\n",
    "vif.sort_values(by='VIF', ascending=False).head(10)"
   ]
  },
  {
   "cell_type": "code",
   "execution_count": 22,
   "id": "cd7bf45f",
   "metadata": {
    "execution": {
     "iopub.execute_input": "2023-02-13T16:38:23.506874Z",
     "iopub.status.busy": "2023-02-13T16:38:23.505936Z",
     "iopub.status.idle": "2023-02-13T16:38:23.515322Z",
     "shell.execute_reply": "2023-02-13T16:38:23.514378Z"
    },
    "papermill": {
     "duration": 0.057577,
     "end_time": "2023-02-13T16:38:23.517484",
     "exception": false,
     "start_time": "2023-02-13T16:38:23.459907",
     "status": "completed"
    },
    "tags": []
   },
   "outputs": [],
   "source": [
    "train_object = train_object.drop(columns=['GarageCond', 'ExterQual', 'Exterior1st', 'Condition2'])"
   ]
  },
  {
   "cell_type": "code",
   "execution_count": 23,
   "id": "d5cb805b",
   "metadata": {
    "execution": {
     "iopub.execute_input": "2023-02-13T16:38:23.551923Z",
     "iopub.status.busy": "2023-02-13T16:38:23.551152Z",
     "iopub.status.idle": "2023-02-13T16:38:23.557942Z",
     "shell.execute_reply": "2023-02-13T16:38:23.556812Z"
    },
    "papermill": {
     "duration": 0.026727,
     "end_time": "2023-02-13T16:38:23.560400",
     "exception": false,
     "start_time": "2023-02-13T16:38:23.533673",
     "status": "completed"
    },
    "tags": []
   },
   "outputs": [
    {
     "data": {
      "text/plain": [
       "(1400, 33)"
      ]
     },
     "execution_count": 23,
     "metadata": {},
     "output_type": "execute_result"
    }
   ],
   "source": [
    "train_object.shape"
   ]
  },
  {
   "cell_type": "markdown",
   "id": "937fc466",
   "metadata": {
    "papermill": {
     "duration": 0.015702,
     "end_time": "2023-02-13T16:38:23.592455",
     "exception": false,
     "start_time": "2023-02-13T16:38:23.576753",
     "status": "completed"
    },
    "tags": []
   },
   "source": [
    "> ### Prepare data int and float type"
   ]
  },
  {
   "cell_type": "code",
   "execution_count": 24,
   "id": "6ee729a5",
   "metadata": {
    "execution": {
     "iopub.execute_input": "2023-02-13T16:38:23.627125Z",
     "iopub.status.busy": "2023-02-13T16:38:23.626707Z",
     "iopub.status.idle": "2023-02-13T16:38:23.651358Z",
     "shell.execute_reply": "2023-02-13T16:38:23.650243Z"
    },
    "papermill": {
     "duration": 0.044582,
     "end_time": "2023-02-13T16:38:23.653604",
     "exception": false,
     "start_time": "2023-02-13T16:38:23.609022",
     "status": "completed"
    },
    "tags": []
   },
   "outputs": [
    {
     "data": {
      "text/html": [
       "<div>\n",
       "<style scoped>\n",
       "    .dataframe tbody tr th:only-of-type {\n",
       "        vertical-align: middle;\n",
       "    }\n",
       "\n",
       "    .dataframe tbody tr th {\n",
       "        vertical-align: top;\n",
       "    }\n",
       "\n",
       "    .dataframe thead th {\n",
       "        text-align: right;\n",
       "    }\n",
       "</style>\n",
       "<table border=\"1\" class=\"dataframe\">\n",
       "  <thead>\n",
       "    <tr style=\"text-align: right;\">\n",
       "      <th></th>\n",
       "      <th>Id</th>\n",
       "      <th>MSSubClass</th>\n",
       "      <th>LotFrontage</th>\n",
       "      <th>LotArea</th>\n",
       "      <th>OverallQual</th>\n",
       "      <th>OverallCond</th>\n",
       "      <th>YearBuilt</th>\n",
       "      <th>YearRemodAdd</th>\n",
       "      <th>MasVnrArea</th>\n",
       "      <th>BsmtFinSF1</th>\n",
       "      <th>...</th>\n",
       "      <th>WoodDeckSF</th>\n",
       "      <th>OpenPorchSF</th>\n",
       "      <th>EnclosedPorch</th>\n",
       "      <th>3SsnPorch</th>\n",
       "      <th>ScreenPorch</th>\n",
       "      <th>PoolArea</th>\n",
       "      <th>MiscVal</th>\n",
       "      <th>MoSold</th>\n",
       "      <th>YrSold</th>\n",
       "      <th>SalePrice</th>\n",
       "    </tr>\n",
       "  </thead>\n",
       "  <tbody>\n",
       "    <tr>\n",
       "      <th>0</th>\n",
       "      <td>1.0</td>\n",
       "      <td>60</td>\n",
       "      <td>65.0</td>\n",
       "      <td>8450.0</td>\n",
       "      <td>7</td>\n",
       "      <td>5</td>\n",
       "      <td>2003</td>\n",
       "      <td>2003</td>\n",
       "      <td>196.0</td>\n",
       "      <td>706.0</td>\n",
       "      <td>...</td>\n",
       "      <td>0</td>\n",
       "      <td>61</td>\n",
       "      <td>0</td>\n",
       "      <td>0</td>\n",
       "      <td>0</td>\n",
       "      <td>0</td>\n",
       "      <td>0</td>\n",
       "      <td>2</td>\n",
       "      <td>2008</td>\n",
       "      <td>208500</td>\n",
       "    </tr>\n",
       "    <tr>\n",
       "      <th>1</th>\n",
       "      <td>2.0</td>\n",
       "      <td>20</td>\n",
       "      <td>80.0</td>\n",
       "      <td>9600.0</td>\n",
       "      <td>6</td>\n",
       "      <td>8</td>\n",
       "      <td>1976</td>\n",
       "      <td>1976</td>\n",
       "      <td>0.0</td>\n",
       "      <td>978.0</td>\n",
       "      <td>...</td>\n",
       "      <td>298</td>\n",
       "      <td>0</td>\n",
       "      <td>0</td>\n",
       "      <td>0</td>\n",
       "      <td>0</td>\n",
       "      <td>0</td>\n",
       "      <td>0</td>\n",
       "      <td>5</td>\n",
       "      <td>2007</td>\n",
       "      <td>181500</td>\n",
       "    </tr>\n",
       "    <tr>\n",
       "      <th>2</th>\n",
       "      <td>3.0</td>\n",
       "      <td>60</td>\n",
       "      <td>68.0</td>\n",
       "      <td>11250.0</td>\n",
       "      <td>7</td>\n",
       "      <td>5</td>\n",
       "      <td>2001</td>\n",
       "      <td>2002</td>\n",
       "      <td>162.0</td>\n",
       "      <td>486.0</td>\n",
       "      <td>...</td>\n",
       "      <td>0</td>\n",
       "      <td>42</td>\n",
       "      <td>0</td>\n",
       "      <td>0</td>\n",
       "      <td>0</td>\n",
       "      <td>0</td>\n",
       "      <td>0</td>\n",
       "      <td>9</td>\n",
       "      <td>2008</td>\n",
       "      <td>223500</td>\n",
       "    </tr>\n",
       "    <tr>\n",
       "      <th>3</th>\n",
       "      <td>4.0</td>\n",
       "      <td>70</td>\n",
       "      <td>60.0</td>\n",
       "      <td>9550.0</td>\n",
       "      <td>7</td>\n",
       "      <td>5</td>\n",
       "      <td>1915</td>\n",
       "      <td>1970</td>\n",
       "      <td>0.0</td>\n",
       "      <td>216.0</td>\n",
       "      <td>...</td>\n",
       "      <td>0</td>\n",
       "      <td>35</td>\n",
       "      <td>272</td>\n",
       "      <td>0</td>\n",
       "      <td>0</td>\n",
       "      <td>0</td>\n",
       "      <td>0</td>\n",
       "      <td>2</td>\n",
       "      <td>2006</td>\n",
       "      <td>140000</td>\n",
       "    </tr>\n",
       "    <tr>\n",
       "      <th>4</th>\n",
       "      <td>5.0</td>\n",
       "      <td>60</td>\n",
       "      <td>84.0</td>\n",
       "      <td>14260.0</td>\n",
       "      <td>8</td>\n",
       "      <td>5</td>\n",
       "      <td>2000</td>\n",
       "      <td>2000</td>\n",
       "      <td>350.0</td>\n",
       "      <td>655.0</td>\n",
       "      <td>...</td>\n",
       "      <td>192</td>\n",
       "      <td>84</td>\n",
       "      <td>0</td>\n",
       "      <td>0</td>\n",
       "      <td>0</td>\n",
       "      <td>0</td>\n",
       "      <td>0</td>\n",
       "      <td>12</td>\n",
       "      <td>2008</td>\n",
       "      <td>250000</td>\n",
       "    </tr>\n",
       "  </tbody>\n",
       "</table>\n",
       "<p>5 rows × 38 columns</p>\n",
       "</div>"
      ],
      "text/plain": [
       "    Id  MSSubClass  LotFrontage  LotArea  OverallQual  OverallCond  YearBuilt  \\\n",
       "0  1.0          60         65.0   8450.0            7            5       2003   \n",
       "1  2.0          20         80.0   9600.0            6            8       1976   \n",
       "2  3.0          60         68.0  11250.0            7            5       2001   \n",
       "3  4.0          70         60.0   9550.0            7            5       1915   \n",
       "4  5.0          60         84.0  14260.0            8            5       2000   \n",
       "\n",
       "   YearRemodAdd  MasVnrArea  BsmtFinSF1  ...  WoodDeckSF  OpenPorchSF  \\\n",
       "0          2003       196.0       706.0  ...           0           61   \n",
       "1          1976         0.0       978.0  ...         298            0   \n",
       "2          2002       162.0       486.0  ...           0           42   \n",
       "3          1970         0.0       216.0  ...           0           35   \n",
       "4          2000       350.0       655.0  ...         192           84   \n",
       "\n",
       "   EnclosedPorch  3SsnPorch  ScreenPorch  PoolArea  MiscVal  MoSold  YrSold  \\\n",
       "0              0          0            0         0        0       2    2008   \n",
       "1              0          0            0         0        0       5    2007   \n",
       "2              0          0            0         0        0       9    2008   \n",
       "3            272          0            0         0        0       2    2006   \n",
       "4              0          0            0         0        0      12    2008   \n",
       "\n",
       "   SalePrice  \n",
       "0     208500  \n",
       "1     181500  \n",
       "2     223500  \n",
       "3     140000  \n",
       "4     250000  \n",
       "\n",
       "[5 rows x 38 columns]"
      ]
     },
     "execution_count": 24,
     "metadata": {},
     "output_type": "execute_result"
    }
   ],
   "source": [
    "train_num.head()"
   ]
  },
  {
   "cell_type": "code",
   "execution_count": 25,
   "id": "0bdc51d0",
   "metadata": {
    "execution": {
     "iopub.execute_input": "2023-02-13T16:38:23.690198Z",
     "iopub.status.busy": "2023-02-13T16:38:23.688832Z",
     "iopub.status.idle": "2023-02-13T16:38:24.592279Z",
     "shell.execute_reply": "2023-02-13T16:38:24.591263Z"
    },
    "papermill": {
     "duration": 0.924188,
     "end_time": "2023-02-13T16:38:24.594862",
     "exception": false,
     "start_time": "2023-02-13T16:38:23.670674",
     "status": "completed"
    },
    "tags": []
   },
   "outputs": [
    {
     "data": {
      "image/png": "[encoded data removed]",
      "text/plain": [
       "<Figure size 1500x1000 with 2 Axes>"
      ]
     },
     "metadata": {},
     "output_type": "display_data"
    }
   ],
   "source": [
    "import seaborn as sbs\n",
    "import matplotlib.pyplot as plt\n",
    "\n",
    "corr = train_num.corr()\n",
    "fig = plt.figure(figsize=(15,10))\n",
    "ax = fig.add_subplot(111)\n",
    "cax = ax.matshow(corr,cmap='coolwarm', vmin=-1, vmax=1)\n",
    "fig.colorbar(cax)\n",
    "ticks = np.arange(0,len(corr.columns),1)\n",
    "ax.set_xticks(ticks)\n",
    "plt.xticks(rotation=90)\n",
    "ax.set_yticks(ticks)\n",
    "ax.set_xticklabels(train_num.columns)\n",
    "ax.set_yticklabels(train_num.columns)\n",
    "plt.show()"
   ]
  },
  {
   "cell_type": "markdown",
   "id": "f55e7479",
   "metadata": {
    "papermill": {
     "duration": 0.01737,
     "end_time": "2023-02-13T16:38:24.630211",
     "exception": false,
     "start_time": "2023-02-13T16:38:24.612841",
     "status": "completed"
    },
    "tags": []
   },
   "source": [
    "> ### We can see high correlation between features:\n",
    "\n",
    "* GarageCars-GarageArea\n",
    "* 1stFlrSF-TotalBsmtSF\n",
    "* GarageYrBlt-YearBuilt\n",
    "* GrLivArea-TotRmsAbvGrd"
   ]
  },
  {
   "cell_type": "code",
   "execution_count": 26,
   "id": "d8da9ee9",
   "metadata": {
    "execution": {
     "iopub.execute_input": "2023-02-13T16:38:24.669716Z",
     "iopub.status.busy": "2023-02-13T16:38:24.669245Z",
     "iopub.status.idle": "2023-02-13T16:38:24.685344Z",
     "shell.execute_reply": "2023-02-13T16:38:24.684174Z"
    },
    "papermill": {
     "duration": 0.038197,
     "end_time": "2023-02-13T16:38:24.687878",
     "exception": false,
     "start_time": "2023-02-13T16:38:24.649681",
     "status": "completed"
    },
    "tags": []
   },
   "outputs": [
    {
     "data": {
      "text/plain": [
       "SalePrice        100.000000\n",
       "Foundation        43.434957\n",
       "CentralAir        26.500795\n",
       "Electrical        24.876586\n",
       "PavedDrive        24.823240\n",
       "SaleCondition     24.204308\n",
       "Neighborhood      20.031474\n",
       "HouseStyle        19.262102\n",
       "RoofStyle         18.314367\n",
       "ExterCond         14.765067\n",
       "GarageQual        13.687635\n",
       "Exterior2nd       12.554779\n",
       "Functional        12.459567\n",
       "Condition1        11.832885\n",
       "BsmtFinType2       5.750825\n",
       "RoofMatl           5.466770\n",
       "BsmtCond           5.264803\n",
       "LandSlope          4.290576\n",
       "LandContour        2.203348\n",
       "MasVnrType        -0.024766\n",
       "SaleType          -5.891562\n",
       "LotConfig         -5.906961\n",
       "BldgType          -6.723230\n",
       "BsmtFinType1      -9.584435\n",
       "Heating          -12.090965\n",
       "MSZoning         -21.202731\n",
       "LotShape         -25.916584\n",
       "BsmtExposure     -29.815967\n",
       "GarageType       -35.233429\n",
       "HeatingQC        -42.337119\n",
       "GarageFinish     -57.265647\n",
       "KitchenQual      -58.983649\n",
       "BsmtQual         -63.021646\n",
       "Name: SalePrice, dtype: float64"
      ]
     },
     "execution_count": 26,
     "metadata": {},
     "output_type": "execute_result"
    }
   ],
   "source": [
    "(train_object.corr()['SalePrice']*100).sort_values(ascending=False)"
   ]
  },
  {
   "cell_type": "code",
   "execution_count": 27,
   "id": "7a1b45ef",
   "metadata": {
    "execution": {
     "iopub.execute_input": "2023-02-13T16:38:24.725793Z",
     "iopub.status.busy": "2023-02-13T16:38:24.725284Z",
     "iopub.status.idle": "2023-02-13T16:38:24.733155Z",
     "shell.execute_reply": "2023-02-13T16:38:24.732173Z"
    },
    "papermill": {
     "duration": 0.029124,
     "end_time": "2023-02-13T16:38:24.735280",
     "exception": false,
     "start_time": "2023-02-13T16:38:24.706156",
     "status": "completed"
    },
    "tags": []
   },
   "outputs": [],
   "source": [
    "# delete some of them\n",
    "train_num = train_num[['SalePrice', 'MSSubClass', 'LotFrontage', 'LotArea', 'OverallQual',\n",
    "       'OverallCond', 'YearBuilt', 'YearRemodAdd', 'MasVnrArea', 'BsmtFinSF1',\n",
    "       'BsmtFinSF2', 'BsmtUnfSF', 'TotalBsmtSF', '1stFlrSF', '2ndFlrSF',\n",
    "       'LowQualFinSF', 'GrLivArea', 'BsmtFullBath', 'BsmtHalfBath', 'FullBath',\n",
    "       'HalfBath', 'BedroomAbvGr', 'KitchenAbvGr', 'TotRmsAbvGrd',\n",
    "       'Fireplaces', 'GarageYrBlt', 'GarageCars', 'GarageArea', 'WoodDeckSF',\n",
    "       'OpenPorchSF', 'EnclosedPorch', '3SsnPorch', 'ScreenPorch', 'PoolArea',\n",
    "       'MiscVal', 'MoSold', 'YrSold']]\n",
    "\n"
   ]
  },
  {
   "cell_type": "code",
   "execution_count": 28,
   "id": "f7099340",
   "metadata": {
    "execution": {
     "iopub.execute_input": "2023-02-13T16:38:24.773644Z",
     "iopub.status.busy": "2023-02-13T16:38:24.772375Z",
     "iopub.status.idle": "2023-02-13T16:38:24.784740Z",
     "shell.execute_reply": "2023-02-13T16:38:24.783356Z"
    },
    "papermill": {
     "duration": 0.034285,
     "end_time": "2023-02-13T16:38:24.787526",
     "exception": false,
     "start_time": "2023-02-13T16:38:24.753241",
     "status": "completed"
    },
    "tags": []
   },
   "outputs": [],
   "source": [
    "for i in ['GrLivArea', '1stFlrSF', 'LotArea']:\n",
    "    train_num[i] = np.log(train_num[i])\n",
    "\n",
    "train_num.loc[train_num['TotalBsmtSF']>0,'TotalBsmtSF'] = np.log(train_num['TotalBsmtSF'])\n",
    "train_num.loc[train_num['GarageArea']>0,'GarageArea'] = np.log(train_num['GarageArea'])"
   ]
  },
  {
   "cell_type": "code",
   "execution_count": 29,
   "id": "a623c334",
   "metadata": {
    "execution": {
     "iopub.execute_input": "2023-02-13T16:38:24.825526Z",
     "iopub.status.busy": "2023-02-13T16:38:24.824862Z",
     "iopub.status.idle": "2023-02-13T16:38:24.933608Z",
     "shell.execute_reply": "2023-02-13T16:38:24.932235Z"
    },
    "papermill": {
     "duration": 0.131066,
     "end_time": "2023-02-13T16:38:24.936243",
     "exception": false,
     "start_time": "2023-02-13T16:38:24.805177",
     "status": "completed"
    },
    "tags": []
   },
   "outputs": [
    {
     "data": {
      "text/html": [
       "<div>\n",
       "<style scoped>\n",
       "    .dataframe tbody tr th:only-of-type {\n",
       "        vertical-align: middle;\n",
       "    }\n",
       "\n",
       "    .dataframe tbody tr th {\n",
       "        vertical-align: top;\n",
       "    }\n",
       "\n",
       "    .dataframe thead th {\n",
       "        text-align: right;\n",
       "    }\n",
       "</style>\n",
       "<table border=\"1\" class=\"dataframe\">\n",
       "  <thead>\n",
       "    <tr style=\"text-align: right;\">\n",
       "      <th></th>\n",
       "      <th>SalePrice</th>\n",
       "      <th>MSSubClass</th>\n",
       "      <th>LotFrontage</th>\n",
       "      <th>LotArea</th>\n",
       "      <th>OverallQual</th>\n",
       "      <th>OverallCond</th>\n",
       "      <th>YearBuilt</th>\n",
       "      <th>YearRemodAdd</th>\n",
       "      <th>MasVnrArea</th>\n",
       "      <th>BsmtFinSF1</th>\n",
       "      <th>...</th>\n",
       "      <th>GarageArea</th>\n",
       "      <th>WoodDeckSF</th>\n",
       "      <th>OpenPorchSF</th>\n",
       "      <th>EnclosedPorch</th>\n",
       "      <th>3SsnPorch</th>\n",
       "      <th>ScreenPorch</th>\n",
       "      <th>PoolArea</th>\n",
       "      <th>MiscVal</th>\n",
       "      <th>MoSold</th>\n",
       "      <th>YrSold</th>\n",
       "    </tr>\n",
       "  </thead>\n",
       "  <tbody>\n",
       "    <tr>\n",
       "      <th>count</th>\n",
       "      <td>1400.000000</td>\n",
       "      <td>1400.000000</td>\n",
       "      <td>1400.000000</td>\n",
       "      <td>1400.000000</td>\n",
       "      <td>1400.000000</td>\n",
       "      <td>1400.000000</td>\n",
       "      <td>1400.000000</td>\n",
       "      <td>1400.000000</td>\n",
       "      <td>1400.000000</td>\n",
       "      <td>1400.000000</td>\n",
       "      <td>...</td>\n",
       "      <td>1400.000000</td>\n",
       "      <td>1400.000000</td>\n",
       "      <td>1400.000000</td>\n",
       "      <td>1400.000000</td>\n",
       "      <td>1400.000000</td>\n",
       "      <td>1400.000000</td>\n",
       "      <td>1400.000000</td>\n",
       "      <td>1400.000000</td>\n",
       "      <td>1400.000000</td>\n",
       "      <td>1400.000000</td>\n",
       "    </tr>\n",
       "    <tr>\n",
       "      <th>mean</th>\n",
       "      <td>176289.527857</td>\n",
       "      <td>56.175000</td>\n",
       "      <td>69.348814</td>\n",
       "      <td>9.085360</td>\n",
       "      <td>6.070714</td>\n",
       "      <td>5.580714</td>\n",
       "      <td>1971.905714</td>\n",
       "      <td>1984.788571</td>\n",
       "      <td>98.753426</td>\n",
       "      <td>429.049286</td>\n",
       "      <td>...</td>\n",
       "      <td>5.823031</td>\n",
       "      <td>92.005714</td>\n",
       "      <td>44.707857</td>\n",
       "      <td>20.690714</td>\n",
       "      <td>3.555714</td>\n",
       "      <td>13.420714</td>\n",
       "      <td>1.401429</td>\n",
       "      <td>31.602857</td>\n",
       "      <td>6.334286</td>\n",
       "      <td>2007.813571</td>\n",
       "    </tr>\n",
       "    <tr>\n",
       "      <th>std</th>\n",
       "      <td>68910.780682</td>\n",
       "      <td>41.758968</td>\n",
       "      <td>20.471165</td>\n",
       "      <td>0.486910</td>\n",
       "      <td>1.323888</td>\n",
       "      <td>1.077709</td>\n",
       "      <td>29.518020</td>\n",
       "      <td>20.722259</td>\n",
       "      <td>168.407685</td>\n",
       "      <td>419.021744</td>\n",
       "      <td>...</td>\n",
       "      <td>1.394542</td>\n",
       "      <td>121.652618</td>\n",
       "      <td>61.504136</td>\n",
       "      <td>57.461322</td>\n",
       "      <td>29.930724</td>\n",
       "      <td>50.763852</td>\n",
       "      <td>30.407929</td>\n",
       "      <td>436.591171</td>\n",
       "      <td>2.699847</td>\n",
       "      <td>1.330981</td>\n",
       "    </tr>\n",
       "    <tr>\n",
       "      <th>min</th>\n",
       "      <td>34900.000000</td>\n",
       "      <td>20.000000</td>\n",
       "      <td>21.000000</td>\n",
       "      <td>7.170120</td>\n",
       "      <td>2.000000</td>\n",
       "      <td>2.000000</td>\n",
       "      <td>1872.000000</td>\n",
       "      <td>1950.000000</td>\n",
       "      <td>0.000000</td>\n",
       "      <td>0.000000</td>\n",
       "      <td>...</td>\n",
       "      <td>0.000000</td>\n",
       "      <td>0.000000</td>\n",
       "      <td>0.000000</td>\n",
       "      <td>0.000000</td>\n",
       "      <td>0.000000</td>\n",
       "      <td>0.000000</td>\n",
       "      <td>0.000000</td>\n",
       "      <td>0.000000</td>\n",
       "      <td>1.000000</td>\n",
       "      <td>2006.000000</td>\n",
       "    </tr>\n",
       "    <tr>\n",
       "      <th>25%</th>\n",
       "      <td>129500.000000</td>\n",
       "      <td>20.000000</td>\n",
       "      <td>60.000000</td>\n",
       "      <td>8.922658</td>\n",
       "      <td>5.000000</td>\n",
       "      <td>5.000000</td>\n",
       "      <td>1954.000000</td>\n",
       "      <td>1966.000000</td>\n",
       "      <td>0.000000</td>\n",
       "      <td>0.000000</td>\n",
       "      <td>...</td>\n",
       "      <td>5.789194</td>\n",
       "      <td>0.000000</td>\n",
       "      <td>0.000000</td>\n",
       "      <td>0.000000</td>\n",
       "      <td>0.000000</td>\n",
       "      <td>0.000000</td>\n",
       "      <td>0.000000</td>\n",
       "      <td>0.000000</td>\n",
       "      <td>5.000000</td>\n",
       "      <td>2007.000000</td>\n",
       "    </tr>\n",
       "    <tr>\n",
       "      <th>50%</th>\n",
       "      <td>161000.000000</td>\n",
       "      <td>50.000000</td>\n",
       "      <td>70.049958</td>\n",
       "      <td>9.144414</td>\n",
       "      <td>6.000000</td>\n",
       "      <td>5.000000</td>\n",
       "      <td>1973.000000</td>\n",
       "      <td>1994.000000</td>\n",
       "      <td>0.000000</td>\n",
       "      <td>380.500000</td>\n",
       "      <td>...</td>\n",
       "      <td>6.162261</td>\n",
       "      <td>0.000000</td>\n",
       "      <td>24.000000</td>\n",
       "      <td>0.000000</td>\n",
       "      <td>0.000000</td>\n",
       "      <td>0.000000</td>\n",
       "      <td>0.000000</td>\n",
       "      <td>0.000000</td>\n",
       "      <td>6.000000</td>\n",
       "      <td>2008.000000</td>\n",
       "    </tr>\n",
       "    <tr>\n",
       "      <th>75%</th>\n",
       "      <td>210000.000000</td>\n",
       "      <td>70.000000</td>\n",
       "      <td>78.000000</td>\n",
       "      <td>9.341061</td>\n",
       "      <td>7.000000</td>\n",
       "      <td>6.000000</td>\n",
       "      <td>2001.000000</td>\n",
       "      <td>2004.000000</td>\n",
       "      <td>160.000000</td>\n",
       "      <td>699.250000</td>\n",
       "      <td>...</td>\n",
       "      <td>6.356108</td>\n",
       "      <td>168.000000</td>\n",
       "      <td>66.000000</td>\n",
       "      <td>0.000000</td>\n",
       "      <td>0.000000</td>\n",
       "      <td>0.000000</td>\n",
       "      <td>0.000000</td>\n",
       "      <td>0.000000</td>\n",
       "      <td>8.000000</td>\n",
       "      <td>2009.000000</td>\n",
       "    </tr>\n",
       "    <tr>\n",
       "      <th>max</th>\n",
       "      <td>465000.000000</td>\n",
       "      <td>190.000000</td>\n",
       "      <td>313.000000</td>\n",
       "      <td>11.653982</td>\n",
       "      <td>10.000000</td>\n",
       "      <td>9.000000</td>\n",
       "      <td>2010.000000</td>\n",
       "      <td>2010.000000</td>\n",
       "      <td>1600.000000</td>\n",
       "      <td>1880.000000</td>\n",
       "      <td>...</td>\n",
       "      <td>7.237059</td>\n",
       "      <td>736.000000</td>\n",
       "      <td>523.000000</td>\n",
       "      <td>330.000000</td>\n",
       "      <td>508.000000</td>\n",
       "      <td>396.000000</td>\n",
       "      <td>738.000000</td>\n",
       "      <td>15500.000000</td>\n",
       "      <td>12.000000</td>\n",
       "      <td>2010.000000</td>\n",
       "    </tr>\n",
       "  </tbody>\n",
       "</table>\n",
       "<p>8 rows × 37 columns</p>\n",
       "</div>"
      ],
      "text/plain": [
       "           SalePrice   MSSubClass  LotFrontage      LotArea  OverallQual  \\\n",
       "count    1400.000000  1400.000000  1400.000000  1400.000000  1400.000000   \n",
       "mean   176289.527857    56.175000    69.348814     9.085360     6.070714   \n",
       "std     68910.780682    41.758968    20.471165     0.486910     1.323888   \n",
       "min     34900.000000    20.000000    21.000000     7.170120     2.000000   \n",
       "25%    129500.000000    20.000000    60.000000     8.922658     5.000000   \n",
       "50%    161000.000000    50.000000    70.049958     9.144414     6.000000   \n",
       "75%    210000.000000    70.000000    78.000000     9.341061     7.000000   \n",
       "max    465000.000000   190.000000   313.000000    11.653982    10.000000   \n",
       "\n",
       "       OverallCond    YearBuilt  YearRemodAdd   MasVnrArea   BsmtFinSF1  ...  \\\n",
       "count  1400.000000  1400.000000   1400.000000  1400.000000  1400.000000  ...   \n",
       "mean      5.580714  1971.905714   1984.788571    98.753426   429.049286  ...   \n",
       "std       1.077709    29.518020     20.722259   168.407685   419.021744  ...   \n",
       "min       2.000000  1872.000000   1950.000000     0.000000     0.000000  ...   \n",
       "25%       5.000000  1954.000000   1966.000000     0.000000     0.000000  ...   \n",
       "50%       5.000000  1973.000000   1994.000000     0.000000   380.500000  ...   \n",
       "75%       6.000000  2001.000000   2004.000000   160.000000   699.250000  ...   \n",
       "max       9.000000  2010.000000   2010.000000  1600.000000  1880.000000  ...   \n",
       "\n",
       "        GarageArea   WoodDeckSF  OpenPorchSF  EnclosedPorch    3SsnPorch  \\\n",
       "count  1400.000000  1400.000000  1400.000000    1400.000000  1400.000000   \n",
       "mean      5.823031    92.005714    44.707857      20.690714     3.555714   \n",
       "std       1.394542   121.652618    61.504136      57.461322    29.930724   \n",
       "min       0.000000     0.000000     0.000000       0.000000     0.000000   \n",
       "25%       5.789194     0.000000     0.000000       0.000000     0.000000   \n",
       "50%       6.162261     0.000000    24.000000       0.000000     0.000000   \n",
       "75%       6.356108   168.000000    66.000000       0.000000     0.000000   \n",
       "max       7.237059   736.000000   523.000000     330.000000   508.000000   \n",
       "\n",
       "       ScreenPorch     PoolArea       MiscVal       MoSold       YrSold  \n",
       "count  1400.000000  1400.000000   1400.000000  1400.000000  1400.000000  \n",
       "mean     13.420714     1.401429     31.602857     6.334286  2007.813571  \n",
       "std      50.763852    30.407929    436.591171     2.699847     1.330981  \n",
       "min       0.000000     0.000000      0.000000     1.000000  2006.000000  \n",
       "25%       0.000000     0.000000      0.000000     5.000000  2007.000000  \n",
       "50%       0.000000     0.000000      0.000000     6.000000  2008.000000  \n",
       "75%       0.000000     0.000000      0.000000     8.000000  2009.000000  \n",
       "max     396.000000   738.000000  15500.000000    12.000000  2010.000000  \n",
       "\n",
       "[8 rows x 37 columns]"
      ]
     },
     "execution_count": 29,
     "metadata": {},
     "output_type": "execute_result"
    }
   ],
   "source": [
    "train_num.describe()"
   ]
  },
  {
   "cell_type": "code",
   "execution_count": 30,
   "id": "ab24cb9a",
   "metadata": {
    "execution": {
     "iopub.execute_input": "2023-02-13T16:38:24.974936Z",
     "iopub.status.busy": "2023-02-13T16:38:24.974509Z",
     "iopub.status.idle": "2023-02-13T16:38:25.792497Z",
     "shell.execute_reply": "2023-02-13T16:38:25.791159Z"
    },
    "papermill": {
     "duration": 0.840552,
     "end_time": "2023-02-13T16:38:25.795180",
     "exception": false,
     "start_time": "2023-02-13T16:38:24.954628",
     "status": "completed"
    },
    "tags": []
   },
   "outputs": [
    {
     "data": {
      "image/png": "[encoded data removed]",
      "text/plain": [
       "<Figure size 1000x700 with 2 Axes>"
      ]
     },
     "metadata": {},
     "output_type": "display_data"
    }
   ],
   "source": [
    "import seaborn as sbs\n",
    "import matplotlib.pyplot as plt\n",
    "\n",
    "corr = train_num.corr()\n",
    "fig = plt.figure(figsize=(10,7))\n",
    "ax = fig.add_subplot(111)\n",
    "cax = ax.matshow(corr,cmap='coolwarm', vmin=-1, vmax=1)\n",
    "fig.colorbar(cax)\n",
    "ticks = np.arange(0,len(corr.columns),1)\n",
    "ax.set_xticks(ticks)\n",
    "plt.xticks(rotation=90)\n",
    "ax.set_yticks(ticks)\n",
    "ax.set_xticklabels(train_num.columns)\n",
    "ax.set_yticklabels(train_num.columns)\n",
    "plt.show()"
   ]
  },
  {
   "cell_type": "code",
   "execution_count": 31,
   "id": "05f7e252",
   "metadata": {
    "execution": {
     "iopub.execute_input": "2023-02-13T16:38:25.835900Z",
     "iopub.status.busy": "2023-02-13T16:38:25.835471Z",
     "iopub.status.idle": "2023-02-13T16:38:25.845475Z",
     "shell.execute_reply": "2023-02-13T16:38:25.844238Z"
    },
    "papermill": {
     "duration": 0.033491,
     "end_time": "2023-02-13T16:38:25.848105",
     "exception": false,
     "start_time": "2023-02-13T16:38:25.814614",
     "status": "completed"
    },
    "tags": []
   },
   "outputs": [],
   "source": [
    "X = pd.concat([train_num.drop(columns='SalePrice'), train_object.drop(columns='SalePrice')], axis=1)\n",
    "y = train['SalePrice']"
   ]
  },
  {
   "cell_type": "markdown",
   "id": "c24c075a",
   "metadata": {
    "papermill": {
     "duration": 0.018819,
     "end_time": "2023-02-13T16:38:25.886268",
     "exception": false,
     "start_time": "2023-02-13T16:38:25.867449",
     "status": "completed"
    },
    "tags": []
   },
   "source": [
    "### RANDOMIZESEARCHCV  TO FIND OPTIMAL PARAMETERS"
   ]
  },
  {
   "cell_type": "code",
   "execution_count": 32,
   "id": "34624156",
   "metadata": {
    "execution": {
     "iopub.execute_input": "2023-02-13T16:38:25.927392Z",
     "iopub.status.busy": "2023-02-13T16:38:25.926253Z",
     "iopub.status.idle": "2023-02-13T16:38:25.934260Z",
     "shell.execute_reply": "2023-02-13T16:38:25.933025Z"
    },
    "papermill": {
     "duration": 0.031175,
     "end_time": "2023-02-13T16:38:25.936749",
     "exception": false,
     "start_time": "2023-02-13T16:38:25.905574",
     "status": "completed"
    },
    "tags": []
   },
   "outputs": [],
   "source": [
    "from sklearn.linear_model import LinearRegression\n",
    "from sklearn.linear_model import Ridge\n",
    "from sklearn.linear_model import Lasso\n",
    "from sklearn.linear_model import BayesianRidge\n",
    "from sklearn.ensemble import RandomForestRegressor\n",
    "from sklearn.linear_model import BayesianRidge\n",
    "from sklearn.linear_model import ElasticNet\n",
    "from sklearn.neighbors import KNeighborsRegressor\n",
    "from sklearn.ensemble import GradientBoostingRegressor\n",
    "from sklearn.metrics import r2_score\n",
    "from sklearn.model_selection import train_test_split,cross_val_score\n",
    "from sklearn import preprocessing\n",
    "from sklearn.model_selection import RandomizedSearchCV"
   ]
  },
  {
   "cell_type": "code",
   "execution_count": 33,
   "id": "2602e595",
   "metadata": {
    "execution": {
     "iopub.execute_input": "2023-02-13T16:38:25.977935Z",
     "iopub.status.busy": "2023-02-13T16:38:25.976472Z",
     "iopub.status.idle": "2023-02-13T16:38:25.992460Z",
     "shell.execute_reply": "2023-02-13T16:38:25.991365Z"
    },
    "papermill": {
     "duration": 0.039392,
     "end_time": "2023-02-13T16:38:25.995277",
     "exception": false,
     "start_time": "2023-02-13T16:38:25.955885",
     "status": "completed"
    },
    "tags": []
   },
   "outputs": [],
   "source": [
    "models=[\n",
    "    {'name':'LR',\"model\": Lasso(), 'params':{ 'fit_intercept':[True,False], 'normalize':[True,False]}},\n",
    "    {'name':'Lasso',\"model\": Lasso(), 'params':{ 'alpha': (np.logspace(-8, 8, 100))}},\n",
    "    {'name':'Ridge',\"model\": Ridge(), 'params':{ 'solver':['svd', 'cholesky', 'lsqr', 'sag'], 'alpha': [1e-5, 1e-4, 1e-3, 1e-2, 1e-1, 1, 10, 100], 'fit_intercept':[True, False], 'normalize':[True, False]}},\n",
    "    {'name':'BRidge',\"model\": BayesianRidge(), 'params':{ 'alpha_init':[1, 1.1, 1.2, 1.3, 1.4, 1.5, 1.9], 'lambda_init': [1e-1, 1e-2, 1e-3, 1e-4, 1e-5, 1e-6, 1e-9]}},\n",
    "    {'name':'RF',\"model\": RandomForestRegressor(), 'params':{ 'bootstrap': [True], 'max_depth': [5, 10, 20, 50, 100], 'min_samples_leaf': [2, 3, 4, 5], 'min_samples_split': [8, 10, 12], 'n_estimators': [5, 10, 20, 30, 100]}},\n",
    "    {'name':'EN',\"model\": ElasticNet(), 'params':{ 'max_iter': [1, 5, 10], 'alpha': [0.0001, 0.001, 0.01, 0.1, 1, 10, 100], 'l1_ratio': np.arange(0.0, 1.0, 0.1)}},\n",
    "    {'name':'KNN',\"model\": KNeighborsRegressor(), 'params':{ 'n_neighbors': [2,3,4,5,6,7,8,9,10,11,12,13,14,15], 'weights': ['uniform','distance'],'p':[1,2,5]}},\n",
    "    {'name':'GBR',\"model\": GradientBoostingRegressor(), 'params':{'learning_rate': [0.01,0.02,0.03,0.04],'subsample' : [0.9, 0.5, 0.2, 0.1],'n_estimators' : [2, 5, 10,50,100, 150], 'max_depth' : [2,4,6,8,10]}}\n",
    "    ]"
   ]
  },
  {
   "cell_type": "code",
   "execution_count": 34,
   "id": "15bb0c47",
   "metadata": {
    "execution": {
     "iopub.execute_input": "2023-02-13T16:38:26.036107Z",
     "iopub.status.busy": "2023-02-13T16:38:26.035669Z",
     "iopub.status.idle": "2023-02-13T16:40:41.833807Z",
     "shell.execute_reply": "2023-02-13T16:40:41.832399Z"
    },
    "papermill": {
     "duration": 135.842604,
     "end_time": "2023-02-13T16:40:41.857171",
     "exception": false,
     "start_time": "2023-02-13T16:38:26.014567",
     "status": "completed"
    },
    "tags": []
   },
   "outputs": [
    {
     "name": "stdout",
     "output_type": "stream",
     "text": [
      "LR 0.8884448650704793 {'normalize': True, 'fit_intercept': True}\n",
      "Lasso 0.8880706659804494 {'alpha': 5.336699231206324}\n",
      "Ridge 0.8881708554938937 {'solver': 'cholesky', 'normalize': False, 'fit_intercept': False, 'alpha': 0.0001}\n",
      "BRidge 0.8864460184687024 {'lambda_init': 1e-06, 'alpha_init': 1.3}\n",
      "RF 0.8819208018327345 {'n_estimators': 30, 'min_samples_split': 12, 'min_samples_leaf': 2, 'max_depth': 20, 'bootstrap': True}\n",
      "EN 0.8841534571571726 {'max_iter': 10, 'l1_ratio': 0.9, 'alpha': 0.1}\n",
      "KNN 0.7624221734398546 {'weights': 'distance', 'p': 1, 'n_neighbors': 12}\n",
      "GBR 0.9010910278627595 {'subsample': 0.9, 'n_estimators': 150, 'max_depth': 6, 'learning_rate': 0.04}\n"
     ]
    }
   ],
   "source": [
    "res=[]\n",
    "for v in  models:\n",
    "    res.append((v['name'], RandomizedSearchCV(v['model'], v['params'], cv=10).fit(X, y)))\n",
    "\n",
    "\n",
    "for r in res:\n",
    "    print(r[0], r[1].best_score_, r[1].best_params_)"
   ]
  },
  {
   "cell_type": "markdown",
   "id": "fc9c3b7c",
   "metadata": {
    "papermill": {
     "duration": 0.019822,
     "end_time": "2023-02-13T16:40:41.897103",
     "exception": false,
     "start_time": "2023-02-13T16:40:41.877281",
     "status": "completed"
    },
    "tags": []
   },
   "source": [
    "## MODEL TRANING"
   ]
  },
  {
   "cell_type": "code",
   "execution_count": 35,
   "id": "5f2f2e66",
   "metadata": {},
   "outputs": [
    {
     "name": "stdout",
     "output_type": "stream",
     "text": [
      "Requirement already satisfied: termcolor in d:\\ana\\lib\\site-packages (2.3.0)\n",
      "Note: you may need to restart the kernel to use updated packages.\n"
     ]
    }
   ],
   "source": [
    "pip install termcolor"
   ]
  },
  {
   "cell_type": "code",
   "execution_count": 36,
   "id": "e4cc840a",
   "metadata": {
    "execution": {
     "iopub.execute_input": "2023-02-13T16:40:42.020220Z",
     "iopub.status.busy": "2023-02-13T16:40:42.019792Z",
     "iopub.status.idle": "2023-02-13T16:40:43.071636Z",
     "shell.execute_reply": "2023-02-13T16:40:43.070324Z"
    },
    "papermill": {
     "duration": 1.07624,
     "end_time": "2023-02-13T16:40:43.074845",
     "exception": false,
     "start_time": "2023-02-13T16:40:41.998605",
     "status": "completed"
    },
    "tags": []
   },
   "outputs": [
    {
     "name": "stdout",
     "output_type": "stream",
     "text": [
      "mae=  : LR=14149.421, Ridge=177105.971, Lasso=14148.951, Bayesian=14184.995, ElasticNet=14971.855, RandomForest=12905.337, Knn=14218.562, GBR=11308.012\n",
      "mse=  : LR=329506260.344, Ridge=31695922286.347, Lasso=329489932.794, Bayesian=332991250.122, ElasticNet=365956360.223, RandomForest=313652327.113, Knn=425293002.758, GBR=230025964.522\n",
      "r2=   : LR=0.916, Ridge=-7.055, Lasso=0.916, Bayesian=0.915, ElasticNet=0.907, RandomForest=0.920, Knn=0.892, GBR=0.942\n"
     ]
    }
   ],
   "source": [
    "X_train,X_test,y_train,y_test=train_test_split(X,y,test_size=0.2,random_state=42)\n",
    "\n",
    "X_train, X_test, y_train, y_test\n",
    "scaler = preprocessing.StandardScaler()\n",
    "X_train = scaler.fit_transform(X_train)\n",
    "X_test = scaler.transform(X_test)\n",
    "\n",
    "\n",
    "# MODELING\n",
    "\n",
    "# 1. LinerRegression\n",
    "\n",
    "lr = LinearRegression(normalize=True, fit_intercept=True)\n",
    "lr.fit(X_train, y_train)\n",
    "lr_pred = lr.predict(X_test)\n",
    "\n",
    "# 2. Ridge\n",
    "\n",
    "ridge = Ridge(solver='svd', normalize=True, fit_intercept=False, alpha=0.01, random_state=42)\n",
    "ridge.fit(X_train, y_train)\n",
    "ridge_pred = ridge.predict(X_test)\n",
    "\n",
    "# 3. Lasso\n",
    "\n",
    "lasso = Lasso(alpha = 0.18738174228603868, random_state=42)\n",
    "lasso.fit(X_train, y_train)\n",
    "lasso_pred = lasso.predict(X_test)\n",
    "\n",
    "# 4. Bayesian\n",
    "\n",
    "bayesian = BayesianRidge(lambda_init=0.1, alpha_init=1.3)\n",
    "bayesian.fit(X_train, y_train)\n",
    "bayesian_pred = bayesian.predict(X_test)\n",
    "\n",
    "# 5. ElasticNet\n",
    "\n",
    "en = ElasticNet(max_iter=10, l1_ratio=0.6000000000000001, alpha=0.01, random_state=42)\n",
    "en.fit(X_train, y_train)\n",
    "en_pred = en.predict(X_test)\n",
    "\n",
    "# 5. RandomForest\n",
    "\n",
    "rf = RandomForestRegressor(n_estimators=30, min_samples_split=10, min_samples_leaf=5, max_depth= 100, bootstrap=True, random_state=42)\n",
    "rf.fit(X_train, y_train)\n",
    "rf_pred = rf.predict(X_test)\n",
    "\n",
    "# 6. KNeighborsRegressor\n",
    "\n",
    "knn = KNeighborsRegressor(weights='distance', p=1, n_neighbors=8)\n",
    "knn.fit(X_train, y_train)\n",
    "knn_pred = knn.predict(X_test)\n",
    "\n",
    "\n",
    "# 7. GradientBoostingRegressor\n",
    "gbr = GradientBoostingRegressor(subsample=0.2, n_estimators=150, max_depth=8, learning_rate=0.04, random_state=42)\n",
    "gbr.fit(X_train, y_train)\n",
    "gbr_pred = gbr.predict(X_test)\n",
    "\n",
    "\n",
    "\n",
    "from sklearn.metrics import r2_score,mean_absolute_error,mean_squared_error\n",
    "from termcolor import colored as cl\n",
    "from sklearn.metrics import explained_variance_score as evs\n",
    "\n",
    "print(f\"mae=  : LR={mean_absolute_error(y_test,lr_pred):.3f}, Ridge={mean_absolute_error(y_test,ridge_pred):.3f}, Lasso={mean_absolute_error(y_test,lasso_pred):.3f}, Bayesian={mean_absolute_error(y_test,bayesian_pred):.3f}, ElasticNet={mean_absolute_error(y_test,en_pred):.3f}, RandomForest={mean_absolute_error(y_test,rf_pred):.3f}, Knn={mean_absolute_error(y_test,knn_pred):.3f}, GBR={mean_absolute_error(y_test,gbr_pred):.3f}\")\n",
    "print(f\"mse=  : LR={mean_squared_error(y_test,lr_pred):.3f}, Ridge={mean_squared_error(y_test,ridge_pred):.3f}, Lasso={mean_squared_error(y_test,lasso_pred):.3f}, Bayesian={mean_squared_error(y_test,bayesian_pred):.3f}, ElasticNet={mean_squared_error(y_test,en_pred):.3f}, RandomForest={mean_squared_error(y_test,rf_pred):.3f}, Knn={mean_squared_error(y_test,knn_pred):.3f}, GBR={mean_squared_error(y_test,gbr_pred):.3f}\")\n",
    "print(f\"r2=   : LR={r2_score(y_test,lr_pred):.3f}, Ridge={r2_score(y_test,ridge_pred):.3f}, Lasso={r2_score(y_test,lasso_pred):.3f}, Bayesian={r2_score(y_test,bayesian_pred):.3f}, ElasticNet={r2_score(y_test,en_pred):.3f}, RandomForest={r2_score(y_test,rf_pred):.3f}, Knn={r2_score(y_test,knn_pred):.3f}, GBR={r2_score(y_test,gbr_pred):.3f}\")\n"
   ]
  },
  {
   "cell_type": "markdown",
   "id": "8d861e53",
   "metadata": {
    "papermill": {
     "duration": 0.023379,
     "end_time": "2023-02-13T16:40:43.125796",
     "exception": false,
     "start_time": "2023-02-13T16:40:43.102417",
     "status": "completed"
    },
    "tags": []
   },
   "source": [
    "> ### GradientBoostingRegressor algorithm shows better perfomance accors all metrics."
   ]
  },
  {
   "cell_type": "code",
   "execution_count": 37,
   "id": "256212ba",
   "metadata": {
    "execution": {
     "iopub.execute_input": "2023-02-13T16:40:43.169645Z",
     "iopub.status.busy": "2023-02-13T16:40:43.168779Z",
     "iopub.status.idle": "2023-02-13T16:40:43.186652Z",
     "shell.execute_reply": "2023-02-13T16:40:43.184956Z"
    },
    "papermill": {
     "duration": 0.041264,
     "end_time": "2023-02-13T16:40:43.189252",
     "exception": false,
     "start_time": "2023-02-13T16:40:43.147988",
     "status": "completed"
    },
    "tags": []
   },
   "outputs": [
    {
     "name": "stdout",
     "output_type": "stream",
     "text": [
      "Explained Variance Score of LinearRegression model is 0.916260255704342\n",
      "-------------------------------------------------------------------------------\n",
      "Explained Variance Score of Ridge model is 0.9162879631158889\n",
      "-------------------------------------------------------------------------------\n",
      "Explained Variance Score of Lasso model is 0.9162913698009038\n",
      "-------------------------------------------------------------------------------\n",
      "Explained Variance Score of Bayesian model is 0.9154194082187513\n",
      "-------------------------------------------------------------------------------\n",
      "Explained Variance Score of ElasticNet is 0.9070025739819481\n",
      "-------------------------------------------------------------------------------\n",
      "Explained Variance Score of RandomForestRegressor is 0.9203726028946153\n",
      "-------------------------------------------------------------------------------\n",
      "Explained Variance Score of KNeighborsRegressor is 0.8958720847697468\n",
      "-------------------------------------------------------------------------------\n",
      "Explained Variance Score of GradientBoostingRegressor is 0.9416197974318692\n",
      "-------------------------------------------------------------------------------\n"
     ]
    }
   ],
   "source": [
    "print(cl('Explained Variance Score of LinearRegression model is {}'.format(r2_score(y_test, lr_pred)), attrs = ['bold']))\n",
    "print('-------------------------------------------------------------------------------')\n",
    "print(cl('Explained Variance Score of Ridge model is {}'.format(evs(y_test, ridge_pred)), attrs = ['bold']))\n",
    "print('-------------------------------------------------------------------------------')\n",
    "print(cl('Explained Variance Score of Lasso model is {}'.format(evs(y_test, lasso_pred)), attrs = ['bold']))\n",
    "print('-------------------------------------------------------------------------------')\n",
    "print(cl('Explained Variance Score of Bayesian model is {}'.format(evs(y_test, bayesian_pred)), attrs = ['bold']))\n",
    "print('-------------------------------------------------------------------------------')\n",
    "print(cl('Explained Variance Score of ElasticNet is {}'.format(evs(y_test, en_pred)), attrs = ['bold']))\n",
    "print('-------------------------------------------------------------------------------')\n",
    "print(cl('Explained Variance Score of RandomForestRegressor is {}'.format(evs(y_test, rf_pred)), attrs = ['bold']))\n",
    "print('-------------------------------------------------------------------------------')\n",
    "print(cl('Explained Variance Score of KNeighborsRegressor is {}'.format(evs(y_test, knn_pred)), attrs = ['bold']))\n",
    "print('-------------------------------------------------------------------------------')\n",
    "print(cl('Explained Variance Score of GradientBoostingRegressor is {}'.format(evs(y_test, gbr_pred)), attrs = ['bold']))\n",
    "print('-------------------------------------------------------------------------------')\n"
   ]
  },
  {
   "cell_type": "code",
   "execution_count": 38,
   "id": "426bd97e",
   "metadata": {},
   "outputs": [],
   "source": [
    "import pickle\n",
    "pickle.dump(gbr, open('gbr.pkl', 'wb'))"
   ]
  },
  {
   "cell_type": "code",
   "execution_count": 39,
   "id": "b56c6fbe",
   "metadata": {},
   "outputs": [],
   "source": [
    "pickled_model = pickle.load(open('gbr.pkl', 'rb'))"
   ]
  },
  {
   "cell_type": "code",
   "execution_count": 40,
   "id": "203e180b",
   "metadata": {},
   "outputs": [
    {
     "name": "stdout",
     "output_type": "stream",
     "text": [
      "GradientBoostingRegressor(learning_rate=0.04, max_depth=8, n_estimators=150,\n",
      "                          random_state=42, subsample=0.2)\n"
     ]
    }
   ],
   "source": [
    "import pickle\n",
    "\n",
    "file_path = 'gbr.pkl'\n",
    "\n",
    "# Load the content of the .pkl file\n",
    "with open(file_path, 'rb') as file:\n",
    "    content = pickle.load(file)\n",
    "\n",
    "# Print or inspect the loaded content\n",
    "print(content)\n"
   ]
  },
  {
   "cell_type": "code",
   "execution_count": 42,
   "id": "fad30c68",
   "metadata": {},
   "outputs": [],
   "source": [
    "prediction_data = pd.read_csv(\"C:/Users/sahu1/usa housing/housing_train.csv\")"
   ]
  },
  {
   "cell_type": "code",
   "execution_count": 43,
   "id": "1d97b249",
   "metadata": {},
   "outputs": [
    {
     "data": {
      "text/html": [
       "<div>\n",
       "<style scoped>\n",
       "    .dataframe tbody tr th:only-of-type {\n",
       "        vertical-align: middle;\n",
       "    }\n",
       "\n",
       "    .dataframe tbody tr th {\n",
       "        vertical-align: top;\n",
       "    }\n",
       "\n",
       "    .dataframe thead th {\n",
       "        text-align: right;\n",
       "    }\n",
       "</style>\n",
       "<table border=\"1\" class=\"dataframe\">\n",
       "  <thead>\n",
       "    <tr style=\"text-align: right;\">\n",
       "      <th></th>\n",
       "      <th>Neighborhood</th>\n",
       "      <th>Condition1</th>\n",
       "      <th>YearBuilt</th>\n",
       "      <th>BldgType</th>\n",
       "      <th>BedroomAbvGr</th>\n",
       "      <th>KitchenAbvGr</th>\n",
       "      <th>FullBath</th>\n",
       "      <th>GarageCars</th>\n",
       "      <th>LotArea</th>\n",
       "    </tr>\n",
       "  </thead>\n",
       "  <tbody>\n",
       "    <tr>\n",
       "      <th>0</th>\n",
       "      <td>CollgCr</td>\n",
       "      <td>Norm</td>\n",
       "      <td>2003</td>\n",
       "      <td>1Fam</td>\n",
       "      <td>3</td>\n",
       "      <td>1</td>\n",
       "      <td>2</td>\n",
       "      <td>2</td>\n",
       "      <td>8450</td>\n",
       "    </tr>\n",
       "    <tr>\n",
       "      <th>1</th>\n",
       "      <td>Veenker</td>\n",
       "      <td>Feedr</td>\n",
       "      <td>1976</td>\n",
       "      <td>1Fam</td>\n",
       "      <td>3</td>\n",
       "      <td>1</td>\n",
       "      <td>2</td>\n",
       "      <td>2</td>\n",
       "      <td>9600</td>\n",
       "    </tr>\n",
       "    <tr>\n",
       "      <th>2</th>\n",
       "      <td>CollgCr</td>\n",
       "      <td>Norm</td>\n",
       "      <td>2001</td>\n",
       "      <td>1Fam</td>\n",
       "      <td>3</td>\n",
       "      <td>1</td>\n",
       "      <td>2</td>\n",
       "      <td>2</td>\n",
       "      <td>11250</td>\n",
       "    </tr>\n",
       "    <tr>\n",
       "      <th>3</th>\n",
       "      <td>Crawfor</td>\n",
       "      <td>Norm</td>\n",
       "      <td>1915</td>\n",
       "      <td>1Fam</td>\n",
       "      <td>3</td>\n",
       "      <td>1</td>\n",
       "      <td>1</td>\n",
       "      <td>3</td>\n",
       "      <td>9550</td>\n",
       "    </tr>\n",
       "    <tr>\n",
       "      <th>4</th>\n",
       "      <td>NoRidge</td>\n",
       "      <td>Norm</td>\n",
       "      <td>2000</td>\n",
       "      <td>1Fam</td>\n",
       "      <td>4</td>\n",
       "      <td>1</td>\n",
       "      <td>2</td>\n",
       "      <td>3</td>\n",
       "      <td>14260</td>\n",
       "    </tr>\n",
       "    <tr>\n",
       "      <th>...</th>\n",
       "      <td>...</td>\n",
       "      <td>...</td>\n",
       "      <td>...</td>\n",
       "      <td>...</td>\n",
       "      <td>...</td>\n",
       "      <td>...</td>\n",
       "      <td>...</td>\n",
       "      <td>...</td>\n",
       "      <td>...</td>\n",
       "    </tr>\n",
       "    <tr>\n",
       "      <th>1455</th>\n",
       "      <td>Gilbert</td>\n",
       "      <td>Norm</td>\n",
       "      <td>1999</td>\n",
       "      <td>1Fam</td>\n",
       "      <td>3</td>\n",
       "      <td>1</td>\n",
       "      <td>2</td>\n",
       "      <td>2</td>\n",
       "      <td>7917</td>\n",
       "    </tr>\n",
       "    <tr>\n",
       "      <th>1456</th>\n",
       "      <td>NWAmes</td>\n",
       "      <td>Norm</td>\n",
       "      <td>1978</td>\n",
       "      <td>1Fam</td>\n",
       "      <td>3</td>\n",
       "      <td>1</td>\n",
       "      <td>2</td>\n",
       "      <td>2</td>\n",
       "      <td>13175</td>\n",
       "    </tr>\n",
       "    <tr>\n",
       "      <th>1457</th>\n",
       "      <td>Crawfor</td>\n",
       "      <td>Norm</td>\n",
       "      <td>1941</td>\n",
       "      <td>1Fam</td>\n",
       "      <td>4</td>\n",
       "      <td>1</td>\n",
       "      <td>2</td>\n",
       "      <td>1</td>\n",
       "      <td>9042</td>\n",
       "    </tr>\n",
       "    <tr>\n",
       "      <th>1458</th>\n",
       "      <td>NAmes</td>\n",
       "      <td>Norm</td>\n",
       "      <td>1950</td>\n",
       "      <td>1Fam</td>\n",
       "      <td>2</td>\n",
       "      <td>1</td>\n",
       "      <td>1</td>\n",
       "      <td>1</td>\n",
       "      <td>9717</td>\n",
       "    </tr>\n",
       "    <tr>\n",
       "      <th>1459</th>\n",
       "      <td>Edwards</td>\n",
       "      <td>Norm</td>\n",
       "      <td>1965</td>\n",
       "      <td>1Fam</td>\n",
       "      <td>3</td>\n",
       "      <td>1</td>\n",
       "      <td>1</td>\n",
       "      <td>1</td>\n",
       "      <td>9937</td>\n",
       "    </tr>\n",
       "  </tbody>\n",
       "</table>\n",
       "<p>1460 rows × 9 columns</p>\n",
       "</div>"
      ],
      "text/plain": [
       "     Neighborhood Condition1  YearBuilt BldgType  BedroomAbvGr  KitchenAbvGr  \\\n",
       "0         CollgCr       Norm       2003     1Fam             3             1   \n",
       "1         Veenker      Feedr       1976     1Fam             3             1   \n",
       "2         CollgCr       Norm       2001     1Fam             3             1   \n",
       "3         Crawfor       Norm       1915     1Fam             3             1   \n",
       "4         NoRidge       Norm       2000     1Fam             4             1   \n",
       "...           ...        ...        ...      ...           ...           ...   \n",
       "1455      Gilbert       Norm       1999     1Fam             3             1   \n",
       "1456       NWAmes       Norm       1978     1Fam             3             1   \n",
       "1457      Crawfor       Norm       1941     1Fam             4             1   \n",
       "1458        NAmes       Norm       1950     1Fam             2             1   \n",
       "1459      Edwards       Norm       1965     1Fam             3             1   \n",
       "\n",
       "      FullBath  GarageCars  LotArea  \n",
       "0            2           2     8450  \n",
       "1            2           2     9600  \n",
       "2            2           2    11250  \n",
       "3            1           3     9550  \n",
       "4            2           3    14260  \n",
       "...        ...         ...      ...  \n",
       "1455         2           2     7917  \n",
       "1456         2           2    13175  \n",
       "1457         2           1     9042  \n",
       "1458         1           1     9717  \n",
       "1459         1           1     9937  \n",
       "\n",
       "[1460 rows x 9 columns]"
      ]
     },
     "execution_count": 43,
     "metadata": {},
     "output_type": "execute_result"
    }
   ],
   "source": [
    "prediction_data = prediction_data[['Neighborhood', 'Condition1','YearBuilt','BldgType','BedroomAbvGr', 'KitchenAbvGr','FullBath', 'GarageCars', 'LotArea']]\n",
    "prediction_data"
   ]
  },
  {
   "cell_type": "code",
   "execution_count": 44,
   "id": "c722d3d5",
   "metadata": {},
   "outputs": [],
   "source": [
    "from sklearn.preprocessing import OneHotEncoder\n",
    "from sklearn.ensemble import GradientBoostingRegressor\n",
    "# Create a list of string features\n",
    "string_features = ['Neighborhood', 'Condition1', 'BldgType']"
   ]
  },
  {
   "cell_type": "code",
   "execution_count": 45,
   "id": "85197d1f",
   "metadata": {},
   "outputs": [],
   "source": [
    "# Encode the string features using one-hot encoding\n",
    "encoder = OneHotEncoder(sparse=False, handle_unknown='ignore')\n",
    "encoded_features = encoder.fit_transform(train[string_features])"
   ]
  },
  {
   "cell_type": "code",
   "execution_count": 53,
   "id": "2a5c0b79",
   "metadata": {},
   "outputs": [],
   "source": [
    "import pickle\n",
    "pickle.dump(encoder, open('encoder.pkl', 'wb'))"
   ]
  },
  {
   "cell_type": "code",
   "execution_count": 54,
   "id": "2d5e7bba",
   "metadata": {},
   "outputs": [
    {
     "data": {
      "text/plain": [
       "OneHotEncoder(handle_unknown='ignore', sparse=False)"
      ]
     },
     "execution_count": 54,
     "metadata": {},
     "output_type": "execute_result"
    }
   ],
   "source": [
    "pick_model = pickle.load(open('encoder.pkl', 'rb'))\n",
    "pick_model"
   ]
  },
  {
   "cell_type": "code",
   "execution_count": 55,
   "id": "04ddd73e",
   "metadata": {},
   "outputs": [],
   "source": [
    "numerical_features = ['YearBuilt','BedroomAbvGr', 'KitchenAbvGr','FullBath', 'GarageCars', 'LotArea']\n",
    "features = np.concatenate((encoded_features, train[numerical_features]), axis=1)"
   ]
  },
  {
   "cell_type": "code",
   "execution_count": 56,
   "id": "b00b9dec",
   "metadata": {},
   "outputs": [],
   "source": [
    "target = train['SalePrice']"
   ]
  },
  {
   "cell_type": "code",
   "execution_count": 57,
   "id": "78c89646",
   "metadata": {},
   "outputs": [
    {
     "data": {
      "text/plain": [
       "GradientBoostingRegressor()"
      ]
     },
     "execution_count": 57,
     "metadata": {},
     "output_type": "execute_result"
    }
   ],
   "source": [
    "# Create and train the GradientBoostingRegressor model\n",
    "gbr = GradientBoostingRegressor()\n",
    "gbr.fit(features, target)"
   ]
  },
  {
   "cell_type": "code",
   "execution_count": 58,
   "id": "8176c045",
   "metadata": {},
   "outputs": [],
   "source": [
    "# Prepare new instance for prediction\n",
    "new_instance = pd.DataFrame({\n",
    "    'Neighborhood': ['CollgCr'],\n",
    "    'Condition1': ['Norm'],\n",
    "    'YearBuilt': [2001],\n",
    "    'BldgType': ['1Fam'],\n",
    "    'BedroomAbvGr': [3],\n",
    "    'KitchenAbvGr': [2],\n",
    "    'FullBath': [2],\n",
    "    'GarageCars': [2],\n",
    "    'LotArea': [9045]\n",
    "\n",
    "\n",
    "})\n"
   ]
  },
  {
   "cell_type": "code",
   "execution_count": 59,
   "id": "5e32bd7e",
   "metadata": {},
   "outputs": [],
   "source": [
    "encoded_instance = encoder.transform(new_instance[string_features])"
   ]
  },
  {
   "cell_type": "code",
   "execution_count": 60,
   "id": "c76cf849",
   "metadata": {},
   "outputs": [],
   "source": [
    "instance_features = pd.concat([pd.DataFrame(encoded_instance), new_instance[numerical_features]], axis=1)"
   ]
  },
  {
   "cell_type": "code",
   "execution_count": 61,
   "id": "5a6e4a25",
   "metadata": {},
   "outputs": [
    {
     "name": "stdout",
     "output_type": "stream",
     "text": [
      "[182157.09321961]\n"
     ]
    }
   ],
   "source": [
    "predicted_prices = gbr.predict(instance_features)\n",
    "print(predicted_prices)"
   ]
  },
  {
   "cell_type": "markdown",
   "id": "d6ef24ed",
   "metadata": {
    "papermill": {
     "duration": 0.019284,
     "end_time": "2023-02-13T16:40:43.228513",
     "exception": false,
     "start_time": "2023-02-13T16:40:43.209229",
     "status": "completed"
    },
    "tags": []
   },
   "source": [
    "## PREPARE TEST DATASET"
   ]
  },
  {
   "cell_type": "code",
   "execution_count": null,
   "id": "732d4ffb",
   "metadata": {},
   "outputs": [],
   "source": []
  },
  {
   "cell_type": "code",
   "execution_count": 38,
   "id": "403599f8",
   "metadata": {
    "execution": {
     "iopub.execute_input": "2023-02-13T16:40:43.269689Z",
     "iopub.status.busy": "2023-02-13T16:40:43.269215Z",
     "iopub.status.idle": "2023-02-13T16:40:43.325383Z",
     "shell.execute_reply": "2023-02-13T16:40:43.324116Z"
    },
    "papermill": {
     "duration": 0.079932,
     "end_time": "2023-02-13T16:40:43.328099",
     "exception": false,
     "start_time": "2023-02-13T16:40:43.248167",
     "status": "completed"
    },
    "tags": []
   },
   "outputs": [
    {
     "data": {
      "text/html": [
       "<div>\n",
       "<style scoped>\n",
       "    .dataframe tbody tr th:only-of-type {\n",
       "        vertical-align: middle;\n",
       "    }\n",
       "\n",
       "    .dataframe tbody tr th {\n",
       "        vertical-align: top;\n",
       "    }\n",
       "\n",
       "    .dataframe thead th {\n",
       "        text-align: right;\n",
       "    }\n",
       "</style>\n",
       "<table border=\"1\" class=\"dataframe\">\n",
       "  <thead>\n",
       "    <tr style=\"text-align: right;\">\n",
       "      <th></th>\n",
       "      <th>Id</th>\n",
       "      <th>MSSubClass</th>\n",
       "      <th>MSZoning</th>\n",
       "      <th>LotFrontage</th>\n",
       "      <th>LotArea</th>\n",
       "      <th>Street</th>\n",
       "      <th>Alley</th>\n",
       "      <th>LotShape</th>\n",
       "      <th>LandContour</th>\n",
       "      <th>Utilities</th>\n",
       "      <th>...</th>\n",
       "      <th>ScreenPorch</th>\n",
       "      <th>PoolArea</th>\n",
       "      <th>PoolQC</th>\n",
       "      <th>Fence</th>\n",
       "      <th>MiscFeature</th>\n",
       "      <th>MiscVal</th>\n",
       "      <th>MoSold</th>\n",
       "      <th>YrSold</th>\n",
       "      <th>SaleType</th>\n",
       "      <th>SaleCondition</th>\n",
       "    </tr>\n",
       "  </thead>\n",
       "  <tbody>\n",
       "    <tr>\n",
       "      <th>0</th>\n",
       "      <td>1461</td>\n",
       "      <td>20</td>\n",
       "      <td>RH</td>\n",
       "      <td>80.0</td>\n",
       "      <td>11622</td>\n",
       "      <td>Pave</td>\n",
       "      <td>NaN</td>\n",
       "      <td>Reg</td>\n",
       "      <td>Lvl</td>\n",
       "      <td>AllPub</td>\n",
       "      <td>...</td>\n",
       "      <td>120</td>\n",
       "      <td>0</td>\n",
       "      <td>NaN</td>\n",
       "      <td>MnPrv</td>\n",
       "      <td>NaN</td>\n",
       "      <td>0</td>\n",
       "      <td>6</td>\n",
       "      <td>2010</td>\n",
       "      <td>WD</td>\n",
       "      <td>Normal</td>\n",
       "    </tr>\n",
       "    <tr>\n",
       "      <th>1</th>\n",
       "      <td>1462</td>\n",
       "      <td>20</td>\n",
       "      <td>RL</td>\n",
       "      <td>81.0</td>\n",
       "      <td>14267</td>\n",
       "      <td>Pave</td>\n",
       "      <td>NaN</td>\n",
       "      <td>IR1</td>\n",
       "      <td>Lvl</td>\n",
       "      <td>AllPub</td>\n",
       "      <td>...</td>\n",
       "      <td>0</td>\n",
       "      <td>0</td>\n",
       "      <td>NaN</td>\n",
       "      <td>NaN</td>\n",
       "      <td>Gar2</td>\n",
       "      <td>12500</td>\n",
       "      <td>6</td>\n",
       "      <td>2010</td>\n",
       "      <td>WD</td>\n",
       "      <td>Normal</td>\n",
       "    </tr>\n",
       "    <tr>\n",
       "      <th>2</th>\n",
       "      <td>1463</td>\n",
       "      <td>60</td>\n",
       "      <td>RL</td>\n",
       "      <td>74.0</td>\n",
       "      <td>13830</td>\n",
       "      <td>Pave</td>\n",
       "      <td>NaN</td>\n",
       "      <td>IR1</td>\n",
       "      <td>Lvl</td>\n",
       "      <td>AllPub</td>\n",
       "      <td>...</td>\n",
       "      <td>0</td>\n",
       "      <td>0</td>\n",
       "      <td>NaN</td>\n",
       "      <td>MnPrv</td>\n",
       "      <td>NaN</td>\n",
       "      <td>0</td>\n",
       "      <td>3</td>\n",
       "      <td>2010</td>\n",
       "      <td>WD</td>\n",
       "      <td>Normal</td>\n",
       "    </tr>\n",
       "    <tr>\n",
       "      <th>3</th>\n",
       "      <td>1464</td>\n",
       "      <td>60</td>\n",
       "      <td>RL</td>\n",
       "      <td>78.0</td>\n",
       "      <td>9978</td>\n",
       "      <td>Pave</td>\n",
       "      <td>NaN</td>\n",
       "      <td>IR1</td>\n",
       "      <td>Lvl</td>\n",
       "      <td>AllPub</td>\n",
       "      <td>...</td>\n",
       "      <td>0</td>\n",
       "      <td>0</td>\n",
       "      <td>NaN</td>\n",
       "      <td>NaN</td>\n",
       "      <td>NaN</td>\n",
       "      <td>0</td>\n",
       "      <td>6</td>\n",
       "      <td>2010</td>\n",
       "      <td>WD</td>\n",
       "      <td>Normal</td>\n",
       "    </tr>\n",
       "    <tr>\n",
       "      <th>4</th>\n",
       "      <td>1465</td>\n",
       "      <td>120</td>\n",
       "      <td>RL</td>\n",
       "      <td>43.0</td>\n",
       "      <td>5005</td>\n",
       "      <td>Pave</td>\n",
       "      <td>NaN</td>\n",
       "      <td>IR1</td>\n",
       "      <td>HLS</td>\n",
       "      <td>AllPub</td>\n",
       "      <td>...</td>\n",
       "      <td>144</td>\n",
       "      <td>0</td>\n",
       "      <td>NaN</td>\n",
       "      <td>NaN</td>\n",
       "      <td>NaN</td>\n",
       "      <td>0</td>\n",
       "      <td>1</td>\n",
       "      <td>2010</td>\n",
       "      <td>WD</td>\n",
       "      <td>Normal</td>\n",
       "    </tr>\n",
       "  </tbody>\n",
       "</table>\n",
       "<p>5 rows × 80 columns</p>\n",
       "</div>"
      ],
      "text/plain": [
       "     Id  MSSubClass MSZoning  LotFrontage  LotArea Street Alley LotShape  \\\n",
       "0  1461          20       RH         80.0    11622   Pave   NaN      Reg   \n",
       "1  1462          20       RL         81.0    14267   Pave   NaN      IR1   \n",
       "2  1463          60       RL         74.0    13830   Pave   NaN      IR1   \n",
       "3  1464          60       RL         78.0     9978   Pave   NaN      IR1   \n",
       "4  1465         120       RL         43.0     5005   Pave   NaN      IR1   \n",
       "\n",
       "  LandContour Utilities  ... ScreenPorch PoolArea PoolQC  Fence MiscFeature  \\\n",
       "0         Lvl    AllPub  ...         120        0    NaN  MnPrv         NaN   \n",
       "1         Lvl    AllPub  ...           0        0    NaN    NaN        Gar2   \n",
       "2         Lvl    AllPub  ...           0        0    NaN  MnPrv         NaN   \n",
       "3         Lvl    AllPub  ...           0        0    NaN    NaN         NaN   \n",
       "4         HLS    AllPub  ...         144        0    NaN    NaN         NaN   \n",
       "\n",
       "  MiscVal MoSold  YrSold  SaleType  SaleCondition  \n",
       "0       0      6    2010        WD         Normal  \n",
       "1   12500      6    2010        WD         Normal  \n",
       "2       0      3    2010        WD         Normal  \n",
       "3       0      6    2010        WD         Normal  \n",
       "4       0      1    2010        WD         Normal  \n",
       "\n",
       "[5 rows x 80 columns]"
      ]
     },
     "execution_count": 38,
     "metadata": {},
     "output_type": "execute_result"
    }
   ],
   "source": [
    "test = pd.read_csv('C:/Users/Acer/Documents/Mini project 2/house-prices-advanced-regression-techniques/test.csv')\n",
    "test.head()"
   ]
  },
  {
   "cell_type": "code",
   "execution_count": 39,
   "id": "fbc3cd7c",
   "metadata": {
    "execution": {
     "iopub.execute_input": "2023-02-13T16:40:43.370634Z",
     "iopub.status.busy": "2023-02-13T16:40:43.370170Z",
     "iopub.status.idle": "2023-02-13T16:40:43.564603Z",
     "shell.execute_reply": "2023-02-13T16:40:43.563631Z"
    },
    "papermill": {
     "duration": 0.218866,
     "end_time": "2023-02-13T16:40:43.567234",
     "exception": false,
     "start_time": "2023-02-13T16:40:43.348368",
     "status": "completed"
    },
    "tags": []
   },
   "outputs": [],
   "source": [
    "test = test.drop(columns=test.columns[test.isna().mean() > 0.40])\n",
    "\n",
    "for i in test.columns[test.dtypes == 'int64']:\n",
    "      get_value(test, column= i, mode='median')\n",
    "\n",
    "for i in test.columns[test.dtypes == 'float64']:\n",
    "      get_value(test, column= i, mode='mean')\n",
    "\n",
    "for i in test.columns[test.dtypes == 'object']:\n",
    "      get_value(test, column= i, mode='mode')\n",
    "  \n",
    "\n",
    "test = test.drop(columns=['Utilities', 'Street', 'GarageCond', 'ExterQual', 'Exterior1st', 'Condition2'])\n",
    "\n",
    "test_object = test.select_dtypes(include=['object'])\n",
    "test_num = test.select_dtypes(include=['int64', 'float64'])\n",
    "\n",
    "from sklearn.preprocessing import OrdinalEncoder\n",
    "ord_enc = OrdinalEncoder()\n",
    "\n",
    "\n",
    "for i in test_object.columns:\n",
    "      test_object[i] = ord_enc.fit_transform(test_object[[i]])\n",
    "\n",
    "\n",
    "test_object.astype('int')\n",
    "\n",
    "test_num = test_num[['MSSubClass', 'LotFrontage', 'LotArea', 'OverallQual',\n",
    "       'OverallCond', 'YearBuilt', 'YearRemodAdd', 'MasVnrArea', 'BsmtFinSF1',\n",
    "       'BsmtFinSF2', 'BsmtUnfSF', 'TotalBsmtSF', '1stFlrSF', '2ndFlrSF',\n",
    "       'LowQualFinSF', 'GrLivArea', 'BsmtFullBath', 'BsmtHalfBath', 'FullBath',\n",
    "       'HalfBath', 'BedroomAbvGr', 'KitchenAbvGr', 'TotRmsAbvGrd',\n",
    "       'Fireplaces', 'GarageYrBlt', 'GarageCars', 'GarageArea', 'WoodDeckSF',\n",
    "       'OpenPorchSF', 'EnclosedPorch', '3SsnPorch', 'ScreenPorch', 'PoolArea',\n",
    "       'MiscVal', 'MoSold', 'YrSold']]\n",
    "\n",
    "\n",
    "for i in ['GrLivArea', '1stFlrSF', 'LotArea']:\n",
    "    test_num[i] = np.log(test_num[i])\n",
    "\n",
    "test_num.loc[test_num['TotalBsmtSF']>0,'TotalBsmtSF'] = np.log(test_num['TotalBsmtSF'])\n",
    "test_num.loc[test_num['GarageArea']>0,'GarageArea'] = np.log(test_num['GarageArea'])\n",
    "\n",
    "\n",
    "X_test = pd.concat([test_num, test_object], axis=1)"
   ]
  },
  {
   "cell_type": "code",
   "execution_count": 40,
   "id": "2c752e79",
   "metadata": {
    "execution": {
     "iopub.execute_input": "2023-02-13T16:40:43.611209Z",
     "iopub.status.busy": "2023-02-13T16:40:43.609928Z",
     "iopub.status.idle": "2023-02-13T16:40:43.617766Z",
     "shell.execute_reply": "2023-02-13T16:40:43.616669Z"
    },
    "papermill": {
     "duration": 0.032539,
     "end_time": "2023-02-13T16:40:43.620004",
     "exception": false,
     "start_time": "2023-02-13T16:40:43.587465",
     "status": "completed"
    },
    "tags": []
   },
   "outputs": [
    {
     "data": {
      "text/plain": [
       "(1400, 68)"
      ]
     },
     "execution_count": 40,
     "metadata": {},
     "output_type": "execute_result"
    }
   ],
   "source": [
    "X.shape"
   ]
  },
  {
   "cell_type": "code",
   "execution_count": 41,
   "id": "901be81c",
   "metadata": {
    "execution": {
     "iopub.execute_input": "2023-02-13T16:40:43.663363Z",
     "iopub.status.busy": "2023-02-13T16:40:43.662542Z",
     "iopub.status.idle": "2023-02-13T16:40:43.668499Z",
     "shell.execute_reply": "2023-02-13T16:40:43.667562Z"
    },
    "papermill": {
     "duration": 0.029811,
     "end_time": "2023-02-13T16:40:43.670707",
     "exception": false,
     "start_time": "2023-02-13T16:40:43.640896",
     "status": "completed"
    },
    "tags": []
   },
   "outputs": [
    {
     "data": {
      "text/plain": [
       "(1459, 68)"
      ]
     },
     "execution_count": 41,
     "metadata": {},
     "output_type": "execute_result"
    }
   ],
   "source": [
    "X_test.shape"
   ]
  },
  {
   "cell_type": "code",
   "execution_count": 48,
   "id": "38587e73",
   "metadata": {
    "execution": {
     "iopub.execute_input": "2023-02-13T16:40:43.777585Z",
     "iopub.status.busy": "2023-02-13T16:40:43.777102Z",
     "iopub.status.idle": "2023-02-13T16:40:43.785222Z",
     "shell.execute_reply": "2023-02-13T16:40:43.783834Z"
    },
    "papermill": {
     "duration": 0.032904,
     "end_time": "2023-02-13T16:40:43.787930",
     "exception": false,
     "start_time": "2023-02-13T16:40:43.755026",
     "status": "completed"
    },
    "tags": []
   },
   "outputs": [
    {
     "data": {
      "text/plain": [
       "(1400, 68)"
      ]
     },
     "execution_count": 48,
     "metadata": {},
     "output_type": "execute_result"
    }
   ],
   "source": [
    "X.shape"
   ]
  },
  {
   "cell_type": "code",
   "execution_count": 49,
   "id": "fbe65dd7",
   "metadata": {
    "execution": {
     "iopub.execute_input": "2023-02-13T16:40:43.830331Z",
     "iopub.status.busy": "2023-02-13T16:40:43.829872Z",
     "iopub.status.idle": "2023-02-13T16:40:45.741889Z",
     "shell.execute_reply": "2023-02-13T16:40:45.740109Z"
    },
    "papermill": {
     "duration": 1.936908,
     "end_time": "2023-02-13T16:40:45.745204",
     "exception": false,
     "start_time": "2023-02-13T16:40:43.808296",
     "status": "completed"
    },
    "tags": []
   },
   "outputs": [
    {
     "name": "stdout",
     "output_type": "stream",
     "text": [
      "mae=  : LR=426488.907, Ridge=426485.557, Lasso=426480.696, Bayesian=375917.093, ElasticNet=263584.415, RandomForest=113527.128, Knn=106350.275, GBR=126174.135\n",
      "mse=  : LR=187776666461.310, Ridge=187773734250.212, Lasso=187769620968.991, Bayesian=147250012868.577, ElasticNet=75903414120.512, RandomForest=13156726578.513, Knn=11577489174.758, GBR=16217716122.452\n"
     ]
    }
   ],
   "source": [
    "scaler = preprocessing.StandardScaler()\n",
    "X_train = scaler.fit_transform(X, y)\n",
    "X_test = scaler.transform(X_test)\n",
    "\n",
    "# MODELING\n",
    "\n",
    "# 1. LinerRegression\n",
    "\n",
    "lr = LinearRegression(normalize=True, fit_intercept=True)\n",
    "lr.fit(X_train, y)\n",
    "lr_pred = lr.predict(X_test)\n",
    "\n",
    "# 2. Ridge\n",
    "\n",
    "ridge = Ridge(solver='cholesky', normalize=False, fit_intercept=True, alpha=0.001)\n",
    "ridge.fit(X_train, y)\n",
    "ridge_pred = ridge.predict(X_test)\n",
    "\n",
    "# 3. Lasso\n",
    "\n",
    "lasso = Lasso(alpha = 0.004534878508128591)\n",
    "lasso.fit(X_train, y)\n",
    "lasso_pred = lasso.predict(X_test)\n",
    "\n",
    "# 4. Bayesian\n",
    "\n",
    "bayesian = BayesianRidge(lambda_init=0.1, alpha_init=1.3)\n",
    "bayesian.fit(X_train, y)\n",
    "bayesian_pred = bayesian.predict(X_test)\n",
    "\n",
    "# 5. ElasticNet\n",
    "\n",
    "en = ElasticNet(max_iter=10, l1_ratio=0.6000000000000001, alpha=0.01)\n",
    "en.fit(X_train, y)\n",
    "en_pred = en.predict(X_test)\n",
    "\n",
    "# 5. RandomForest\n",
    "\n",
    "rf = RandomForestRegressor(n_estimators=30, min_samples_split=10, min_samples_leaf=5, max_depth= 100, bootstrap=True)\n",
    "rf.fit(X_train, y)\n",
    "rf_pred = rf.predict(X_test)\n",
    "\n",
    "# 6. KNeighborsRegressor\n",
    "\n",
    "knn = KNeighborsRegressor(weights='uniform', p=1, n_neighbors=15)\n",
    "knn.fit(X_train, y)\n",
    "knn_pred = knn.predict(X_test)\n",
    "\n",
    "\n",
    "# 7. GradientBoostingRegressor\n",
    "gbr = GradientBoostingRegressor(subsample=0.5, n_estimators=150, max_depth=6, learning_rate=0.04)\n",
    "gbr.fit(X_train, y)\n",
    "gbr_pred = gbr.predict(X_test)\n",
    "\n",
    "\n",
    "\n",
    "\n",
    "from sklearn.metrics import r2_score,mean_absolute_error,mean_squared_error\n",
    "\n",
    "print (f\"mae=  : LR={mean_absolute_error(y_submission,lr_pred):.3f}, Ridge={mean_absolute_error(y_submission,ridge_pred):.3f}, Lasso={mean_absolute_error(y_submission,lasso_pred):.3f}, Bayesian={mean_absolute_error(y_submission,bayesian_pred):.3f}, ElasticNet={mean_absolute_error(y_submission,en_pred):.3f}, RandomForest={mean_absolute_error(y_submission,rf_pred):.3f}, Knn={mean_absolute_error(y_submission,knn_pred):.3f}, GBR={mean_absolute_error(y_submission,gbr_pred):.3f}\")\n",
    "print (f\"mse=  : LR={mean_squared_error(y_submission,lr_pred):.3f}, Ridge={mean_squared_error(y_submission,ridge_pred):.3f}, Lasso={mean_squared_error(y_submission,lasso_pred):.3f}, Bayesian={mean_squared_error(y_submission,bayesian_pred):.3f}, ElasticNet={mean_squared_error(y_submission,en_pred):.3f}, RandomForest={mean_squared_error(y_submission,rf_pred):.3f}, Knn={mean_squared_error(y_submission,knn_pred):.3f}, GBR={mean_squared_error(y_submission,gbr_pred):.3f}\")\n",
    "#print (f\"r2=   : LR={r2_score(y_submission,lr_pred):.3f}, Ridge={r2_score(y_submission,ridge_pred):.3f}, Lasso={r2_score(y_submission,lasso_pred):.3f}, Bayesian={r2_score(y_submission,bayesian_pred):.3f}, ElasticNet={r2_score(y_submission,en_pred):.3f}, RandomForest={r2_score(y_submission,rf_pred):.3f}, Knn={r2_score(y_submission,knn_pred):.3f}, GBR={r2_score(y_submission,gbr_pred):.3f}\")\n",
    "\n",
    "\n",
    "\n",
    "\n",
    "\n"
   ]
  },
  {
   "cell_type": "code",
   "execution_count": null,
   "id": "825b0d4f",
   "metadata": {},
   "outputs": [],
   "source": []
  }
 ],
 "metadata": {
  "kernelspec": {
   "display_name": "Python 3 (ipykernel)",
   "language": "python",
   "name": "python3"
  },
  "language_info": {
   "codemirror_mode": {
    "name": "ipython",
    "version": 3
   },
   "file_extension": ".py",
   "mimetype": "text/x-python",
   "name": "python",
   "nbconvert_exporter": "python",
   "pygments_lexer": "ipython3",
   "version": "3.9.13"
  },
  "papermill": {
   "default_parameters": {},
   "duration": 157.676234,
   "end_time": "2023-02-13T16:40:46.748079",
   "environment_variables": {},
   "exception": null,
   "input_path": "__notebook__.ipynb",
   "output_path": "__notebook__.ipynb",
   "parameters": {},
   "start_time": "2023-02-13T16:38:09.071845",
   "version": "2.3.4"
  }
 },
 "nbformat": 4,
 "nbformat_minor": 5
}
